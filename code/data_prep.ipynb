{
 "metadata": {
  "language_info": {
   "codemirror_mode": {
    "name": "ipython",
    "version": 3
   },
   "file_extension": ".py",
   "mimetype": "text/x-python",
   "name": "python",
   "nbconvert_exporter": "python",
   "pygments_lexer": "ipython3",
   "version": "3.6.9-final"
  },
  "orig_nbformat": 2,
  "kernelspec": {
   "name": "flatiron",
   "display_name": "flatiron"
  }
 },
 "nbformat": 4,
 "nbformat_minor": 2,
 "cells": [
  {
   "cell_type": "markdown",
   "metadata": {},
   "source": [
    "# Data Preparation\n"
   ]
  },
  {
   "cell_type": "code",
   "execution_count": 47,
   "metadata": {},
   "outputs": [],
   "source": [
    "# Import the required libraries\n",
    "import pandas as pd\n",
    "import numpy as np\n",
    "import re\n",
    "\n",
    "from vaderSentiment.vaderSentiment import SentimentIntensityAnalyzer\n",
    "from textblob import TextBlob\n",
    " "
   ]
  },
  {
   "cell_type": "code",
   "execution_count": 48,
   "metadata": {},
   "outputs": [],
   "source": [
    "# Functions \n",
    "usa_states_fullname_regex = '(ALABAMA|ALASKA|ARIZONA|ARKANSAS|CALIFORNIA|COLORADO|CONNECTICUT|DELAWARE|FLORIDA|GEORGIA|HAWAII|' \\\n",
    "                            'IDAHO|ILLINOIS|INDIANA|IOWA|KANSAS|KENTUCKY|LOUISIANA|MAINE|MARYLAND|MASSACHUSETTS|MICHIGAN|MINNESOTA|MISSISSIPPI|MISSOURI|MONTANA|'\\\n",
    "                            'NEBRASKA|NEVADA|NEW\\sHAMPSHIRE|NEWSJERSEY|NEW\\sMEXICO|NEW\\sYORK|NORTH\\sCAROLINA|NORTH\\sDAKOTA|'\\\n",
    "                            'OHIO|OKLAHOMA|OREGON|PENNSYLVANIA RHODE\\sISLAND|'\\\n",
    "                            'SOUTH\\sCAROLINA|SOUTH\\sDAKOTA|TENNESSEE|TEXAS|UTAH|VERMONT|VIRGINIA|WASHINGTON|WEST\\sVIRGINIA|WISCONSIN|WYOMING|USA)'\n",
    "\n",
    "\n",
    "usa_states_regex = ',\\s{1}(A[KLRZ]|C[AOT]|D[CE]|FL|GA|HI|I[ADLN]|K[SY]|LA|M[ADEINOST]|N[CDEHJMVY]|O[HKR]|P[AR]|RI|S[CD]|T[NX]|UT|V[AIT]|W[AIVY])'\n",
    "\n",
    "#  Functions for Duplicate checks \n",
    "def get_exact_dups(df):\n",
    "    '''\n",
    "    Returns duplicates\n",
    "    '''\n",
    "    dups = df[df.duplicated()]\n",
    "    return dups\n",
    "\n",
    "def get_tweet_dups(df, col_names):\n",
    "    '''\n",
    "    Returns duplicates based on given column name\n",
    "    '''\n",
    "    dups = df[df.duplicated(subset=col_names)]\n",
    "    return dups\n",
    "\n",
    "def get_is_us_loc(loc_string):\n",
    "    matches_abbrev = bool(re.search(usa_states_regex, loc_string.upper()))\n",
    "    if not matches_abbrev:\n",
    "        matches_full_name = bool(re.search(usa_states_fullname_regex, loc_string.upper())) \n",
    "    return (matches_abbrev or matches_full_name)\n",
    "\n",
    "# Functions to call sentiment tools\n",
    "def get_vader_sentiment(analyzer, tweet):\n",
    "    tweet = tweet.replace('#','')  # we want things like #fail to be included in text\n",
    "    vader_scores = analyzer.polarity_scores(tweet)\n",
    "    compound_score = vader_scores['compound']\n",
    "    vader_sentiment = None\n",
    "    # using thresholds from VADER developers/researchers\n",
    "    if (compound_score >= 0.05):\n",
    "        vader_sentiment = 'positive'\n",
    "    elif (compound_score < 0.05 and compound_score > -0.05):\n",
    "        vader_sentiment = 'neutral'\n",
    "    elif (compound_score <= -0.05):\n",
    "        vader_sentiment = 'negative'\n",
    "    return vader_sentiment\n",
    "\n",
    "def get_text_blob_sentiment(tweet):\n",
    "    polarity = TextBlob(tweet).sentiment.polarity\n",
    "    # The polarity score is a float within the range [-1.0, 1.0]. \n",
    "    textblob_sentiment = None\n",
    "    if (polarity > 0):\n",
    "        textblob_sentiment = 'positive'\n",
    "    elif (polarity == 0):\n",
    "        textblob_sentiment = 'neutral'\n",
    "    elif (polarity < 0):\n",
    "        textblob_sentiment = 'negative'\n",
    "    return textblob_sentiment  \n",
    "    \n",
    "\n",
    "def get_tools_match(vader_sentiment, tb_sentiment):\n",
    "    return vader_sentiment == tb_sentiment\n",
    "\n",
    "def get_tool_and_human_match(vader_sentiment, tb_sentiment, human_sentiment):\n",
    "    return ((human_sentiment == vader_sentiment) or (human_sentiment == tb_sentiment))\n"
   ]
  },
  {
   "cell_type": "code",
   "execution_count": 104,
   "metadata": {},
   "outputs": [
    {
     "output_type": "stream",
     "name": "stdout",
     "text": [
      "<class 'pandas.core.frame.DataFrame'>\nInt64Index: 202645 entries, 0 to 202644\nData columns (total 7 columns):\n #   Column         Non-Null Count   Dtype \n---  ------         --------------   ----- \n 0   Unnamed: 0.1   202645 non-null  int64 \n 1   Content        202645 non-null  object\n 2   Location       155123 non-null  object\n 3   Username       202645 non-null  object\n 4   Retweet-Count  202645 non-null  int64 \n 5   Favorites      202645 non-null  int64 \n 6   Created at     202645 non-null  object\ndtypes: int64(3), object(4)\nmemory usage: 12.4+ MB\nNone\n"
     ]
    }
   ],
   "source": [
    "external_data = pd.read_csv('../external_data/tweets_raw.csv', index_col='Unnamed: 0')\n",
    "print(external_data.info())"
   ]
  },
  {
   "cell_type": "code",
   "execution_count": 105,
   "metadata": {},
   "outputs": [
    {
     "output_type": "stream",
     "name": "stdout",
     "text": [
      "<class 'pandas.core.frame.DataFrame'>\nInt64Index: 202645 entries, 0 to 202644\nData columns (total 7 columns):\n #   Column            Non-Null Count   Dtype \n---  ------            --------------   ----- \n 0   the_id            202645 non-null  int64 \n 1   content           202645 non-null  object\n 2   user_loc          155123 non-null  object\n 3   user_screen_name  202645 non-null  object\n 4   retweet_count     202645 non-null  int64 \n 5   fav_count         202645 non-null  int64 \n 6   created_at        202645 non-null  object\ndtypes: int64(3), object(4)\nmemory usage: 12.4+ MB\n"
     ]
    }
   ],
   "source": [
    "#rename columns\n",
    "external_data.rename(columns = {'Unnamed: 0.1':'the_id', 'Content':'content', 'Location':'user_loc', 'Username':'user_screen_name', \n",
    "    'Retweet-Count':'retweet_count', 'Favorites':'fav_count', 'Created at': 'created_at'}, inplace = True) \n",
    "external_data.info()"
   ]
  },
  {
   "cell_type": "code",
   "execution_count": 109,
   "metadata": {},
   "outputs": [
    {
     "output_type": "stream",
     "name": "stdout",
     "text": [
      "(139410, 7)\n"
     ]
    }
   ],
   "source": [
    "# Drop the rows with null user_location and Duplicated content\n",
    "external_data.dropna(subset=['user_loc'], inplace=True)\n",
    "external_data.drop_duplicates(subset=['content'], inplace=True)\n",
    "print(external_data.shape)"
   ]
  },
  {
   "cell_type": "code",
   "execution_count": 113,
   "metadata": {
    "tags": []
   },
   "outputs": [],
   "source": [
    "# Check location for a US state (using regex). We only want to use Tweets with a US location\n",
    "external_data['is_us_loc'] = external_data.apply(lambda row: get_is_us_loc(row['user_loc']), axis=1)\n",
    "us_only_data = external_data[external_data['is_us_loc'] == True]\n",
    "us_only_data.shape\n",
    "us_only_data.drop('is_us_loc', axis=1, inplace=True)"
   ]
  },
  {
   "cell_type": "code",
   "execution_count": 114,
   "metadata": {},
   "outputs": [
    {
     "output_type": "execute_result",
     "data": {
      "text/plain": [
       "        the_id                                            content  \\\n",
       "202634    2676  Told my kids this was real #virtuallearning #s...   \n",
       "202635    2677  Attention ALL students transitioning to colleg...   \n",
       "202636    2678  Attention ALL students transitioning to colleg...   \n",
       "202637    2679  I work with the best English 10 teacher in the...   \n",
       "202639    2681  Join us on August 21st at 12 pm CDT for Virtua...   \n",
       "\n",
       "             user_loc user_screen_name  retweet_count  fav_count  \\\n",
       "202634  Knoxville, TN         donnyr71              0          5   \n",
       "202635    Atlanta, GA    TeeTaylorMade              0          1   \n",
       "202636    Chicago, IL      EZTAYLORFDN              0          1   \n",
       "202637    Roanoke, VA       abchitwood              0          2   \n",
       "202639      Tulsa, OK      LindaJatJCG              0          0   \n",
       "\n",
       "                 created_at  char_count  \n",
       "202634  2020-08-06 00:47:55          84  \n",
       "202635  2020-08-06 00:47:24         277  \n",
       "202636  2020-08-06 00:47:09         277  \n",
       "202637  2020-08-06 00:42:25         253  \n",
       "202639  2020-08-06 00:30:58         128  "
      ],
      "text/html": "<div>\n<style scoped>\n    .dataframe tbody tr th:only-of-type {\n        vertical-align: middle;\n    }\n\n    .dataframe tbody tr th {\n        vertical-align: top;\n    }\n\n    .dataframe thead th {\n        text-align: right;\n    }\n</style>\n<table border=\"1\" class=\"dataframe\">\n  <thead>\n    <tr style=\"text-align: right;\">\n      <th></th>\n      <th>the_id</th>\n      <th>content</th>\n      <th>user_loc</th>\n      <th>user_screen_name</th>\n      <th>retweet_count</th>\n      <th>fav_count</th>\n      <th>created_at</th>\n      <th>char_count</th>\n    </tr>\n  </thead>\n  <tbody>\n    <tr>\n      <th>202634</th>\n      <td>2676</td>\n      <td>Told my kids this was real #virtuallearning #s...</td>\n      <td>Knoxville, TN</td>\n      <td>donnyr71</td>\n      <td>0</td>\n      <td>5</td>\n      <td>2020-08-06 00:47:55</td>\n      <td>84</td>\n    </tr>\n    <tr>\n      <th>202635</th>\n      <td>2677</td>\n      <td>Attention ALL students transitioning to colleg...</td>\n      <td>Atlanta, GA</td>\n      <td>TeeTaylorMade</td>\n      <td>0</td>\n      <td>1</td>\n      <td>2020-08-06 00:47:24</td>\n      <td>277</td>\n    </tr>\n    <tr>\n      <th>202636</th>\n      <td>2678</td>\n      <td>Attention ALL students transitioning to colleg...</td>\n      <td>Chicago, IL</td>\n      <td>EZTAYLORFDN</td>\n      <td>0</td>\n      <td>1</td>\n      <td>2020-08-06 00:47:09</td>\n      <td>277</td>\n    </tr>\n    <tr>\n      <th>202637</th>\n      <td>2679</td>\n      <td>I work with the best English 10 teacher in the...</td>\n      <td>Roanoke, VA</td>\n      <td>abchitwood</td>\n      <td>0</td>\n      <td>2</td>\n      <td>2020-08-06 00:42:25</td>\n      <td>253</td>\n    </tr>\n    <tr>\n      <th>202639</th>\n      <td>2681</td>\n      <td>Join us on August 21st at 12 pm CDT for Virtua...</td>\n      <td>Tulsa, OK</td>\n      <td>LindaJatJCG</td>\n      <td>0</td>\n      <td>0</td>\n      <td>2020-08-06 00:30:58</td>\n      <td>128</td>\n    </tr>\n  </tbody>\n</table>\n</div>"
     },
     "metadata": {},
     "execution_count": 114
    }
   ],
   "source": [
    "# Get the char count\n",
    "us_only_data['char_count'] = us_only_data.apply(lambda row: len(row['content']), axis=1)\n",
    "us_only_data.tail()"
   ]
  },
  {
   "cell_type": "code",
   "execution_count": 116,
   "metadata": {},
   "outputs": [
    {
     "output_type": "execute_result",
     "data": {
      "text/plain": [
       "(58941, 8)"
      ]
     },
     "metadata": {},
     "execution_count": 116
    }
   ],
   "source": [
    "# Keep only the tweets with 100 and above characters\n",
    "us_only_data = us_only_data[us_only_data['char_count'] >= 100]\n",
    "us_only_data.shape"
   ]
  },
  {
   "cell_type": "code",
   "execution_count": 124,
   "metadata": {},
   "outputs": [
    {
     "output_type": "execute_result",
     "data": {
      "text/plain": [
       "    the_id                                            content       user_loc  \\\n",
       "9        9  “Instructional Considerations for the 2020-21 ...  Illinois, USA   \n",
       "10      10  With all the uncertainty of what September wil...  Lyndhurst, NJ   \n",
       "11      11  Check this out on Wakelet - Digital learning a...       Cary, NC   \n",
       "\n",
       "   user_screen_name  retweet_count  fav_count           created_at  \\\n",
       "9     Erik_Youngman              0          2  2020-08-02 00:10:26   \n",
       "10      Renee_LoBue              0          0  2020-08-01 23:57:31   \n",
       "11      SupriyaVasu              0          0  2020-08-01 23:20:38   \n",
       "\n",
       "    char_count sentiment_method sentiment vader_sentiment text_blob_sentiment  \\\n",
       "9          276            tools   neutral         neutral             neutral   \n",
       "10         264            tools  positive        positive            positive   \n",
       "11         133            tools   neutral         neutral             neutral   \n",
       "\n",
       "    tools_match  \n",
       "9          True  \n",
       "10         True  \n",
       "11         True  "
      ],
      "text/html": "<div>\n<style scoped>\n    .dataframe tbody tr th:only-of-type {\n        vertical-align: middle;\n    }\n\n    .dataframe tbody tr th {\n        vertical-align: top;\n    }\n\n    .dataframe thead th {\n        text-align: right;\n    }\n</style>\n<table border=\"1\" class=\"dataframe\">\n  <thead>\n    <tr style=\"text-align: right;\">\n      <th></th>\n      <th>the_id</th>\n      <th>content</th>\n      <th>user_loc</th>\n      <th>user_screen_name</th>\n      <th>retweet_count</th>\n      <th>fav_count</th>\n      <th>created_at</th>\n      <th>char_count</th>\n      <th>sentiment_method</th>\n      <th>sentiment</th>\n      <th>vader_sentiment</th>\n      <th>text_blob_sentiment</th>\n      <th>tools_match</th>\n    </tr>\n  </thead>\n  <tbody>\n    <tr>\n      <th>9</th>\n      <td>9</td>\n      <td>“Instructional Considerations for the 2020-21 ...</td>\n      <td>Illinois, USA</td>\n      <td>Erik_Youngman</td>\n      <td>0</td>\n      <td>2</td>\n      <td>2020-08-02 00:10:26</td>\n      <td>276</td>\n      <td>tools</td>\n      <td>neutral</td>\n      <td>neutral</td>\n      <td>neutral</td>\n      <td>True</td>\n    </tr>\n    <tr>\n      <th>10</th>\n      <td>10</td>\n      <td>With all the uncertainty of what September wil...</td>\n      <td>Lyndhurst, NJ</td>\n      <td>Renee_LoBue</td>\n      <td>0</td>\n      <td>0</td>\n      <td>2020-08-01 23:57:31</td>\n      <td>264</td>\n      <td>tools</td>\n      <td>positive</td>\n      <td>positive</td>\n      <td>positive</td>\n      <td>True</td>\n    </tr>\n    <tr>\n      <th>11</th>\n      <td>11</td>\n      <td>Check this out on Wakelet - Digital learning a...</td>\n      <td>Cary, NC</td>\n      <td>SupriyaVasu</td>\n      <td>0</td>\n      <td>0</td>\n      <td>2020-08-01 23:20:38</td>\n      <td>133</td>\n      <td>tools</td>\n      <td>neutral</td>\n      <td>neutral</td>\n      <td>neutral</td>\n      <td>True</td>\n    </tr>\n  </tbody>\n</table>\n</div>"
     },
     "metadata": {},
     "execution_count": 124
    }
   ],
   "source": [
    "# Get the VADER and TextBlob sentiments\n",
    "analyzer = SentimentIntensityAnalyzer()\n",
    "us_only_data['vader_sentiment'] = us_only_data.apply(lambda row: get_vader_sentiment(analyzer, row['content']), axis=1)\n",
    "us_only_data['text_blob_sentiment'] = us_only_data.apply(lambda row: get_text_blob_sentiment(row['content']), axis=1)\n",
    "\n",
    "# Mark where the two tools agree\n",
    "us_only_data['tools_match'] = us_only_data.apply(lambda row: get_tools_match(row['vader_sentiment'], row['text_blob_sentiment']), axis=1)\n",
    "\n",
    "# keep only the tweets where the tools agree \n",
    "us_only_data = us_only_data[us_only_data['tools_match']]\n",
    "us_only_data.head(3)"
   ]
  },
  {
   "cell_type": "code",
   "execution_count": 125,
   "metadata": {},
   "outputs": [
    {
     "output_type": "execute_result",
     "data": {
      "text/plain": [
       "    the_id                                            content        user_loc  \\\n",
       "9        9  “Instructional Considerations for the 2020-21 ...   Illinois, USA   \n",
       "10      10  With all the uncertainty of what September wil...   Lyndhurst, NJ   \n",
       "11      11  Check this out on Wakelet - Digital learning a...        Cary, NC   \n",
       "12      12  Happy Friendship Day!\\n#rdnums #nagaland #kohi...   Kohima, India   \n",
       "13      13  Beat the summer heat with over 400 cool games ...  Providence, RI   \n",
       "\n",
       "   user_screen_name  retweet_count  fav_count           created_at  \\\n",
       "9     Erik_Youngman              0          2  2020-08-02 00:10:26   \n",
       "10      Renee_LoBue              0          0  2020-08-01 23:57:31   \n",
       "11      SupriyaVasu              0          0  2020-08-01 23:20:38   \n",
       "12           rdnums              2          1  2020-08-01 23:17:09   \n",
       "13       ABCyaGames              0          2  2020-08-01 23:00:00   \n",
       "\n",
       "    char_count sentiment_method sentiment  \n",
       "9          276            tools   neutral  \n",
       "10         264            tools  positive  \n",
       "11         133            tools   neutral  \n",
       "12         264            tools  positive  \n",
       "13         146            tools  positive  "
      ],
      "text/html": "<div>\n<style scoped>\n    .dataframe tbody tr th:only-of-type {\n        vertical-align: middle;\n    }\n\n    .dataframe tbody tr th {\n        vertical-align: top;\n    }\n\n    .dataframe thead th {\n        text-align: right;\n    }\n</style>\n<table border=\"1\" class=\"dataframe\">\n  <thead>\n    <tr style=\"text-align: right;\">\n      <th></th>\n      <th>the_id</th>\n      <th>content</th>\n      <th>user_loc</th>\n      <th>user_screen_name</th>\n      <th>retweet_count</th>\n      <th>fav_count</th>\n      <th>created_at</th>\n      <th>char_count</th>\n      <th>sentiment_method</th>\n      <th>sentiment</th>\n    </tr>\n  </thead>\n  <tbody>\n    <tr>\n      <th>9</th>\n      <td>9</td>\n      <td>“Instructional Considerations for the 2020-21 ...</td>\n      <td>Illinois, USA</td>\n      <td>Erik_Youngman</td>\n      <td>0</td>\n      <td>2</td>\n      <td>2020-08-02 00:10:26</td>\n      <td>276</td>\n      <td>tools</td>\n      <td>neutral</td>\n    </tr>\n    <tr>\n      <th>10</th>\n      <td>10</td>\n      <td>With all the uncertainty of what September wil...</td>\n      <td>Lyndhurst, NJ</td>\n      <td>Renee_LoBue</td>\n      <td>0</td>\n      <td>0</td>\n      <td>2020-08-01 23:57:31</td>\n      <td>264</td>\n      <td>tools</td>\n      <td>positive</td>\n    </tr>\n    <tr>\n      <th>11</th>\n      <td>11</td>\n      <td>Check this out on Wakelet - Digital learning a...</td>\n      <td>Cary, NC</td>\n      <td>SupriyaVasu</td>\n      <td>0</td>\n      <td>0</td>\n      <td>2020-08-01 23:20:38</td>\n      <td>133</td>\n      <td>tools</td>\n      <td>neutral</td>\n    </tr>\n    <tr>\n      <th>12</th>\n      <td>12</td>\n      <td>Happy Friendship Day!\\n#rdnums #nagaland #kohi...</td>\n      <td>Kohima, India</td>\n      <td>rdnums</td>\n      <td>2</td>\n      <td>1</td>\n      <td>2020-08-01 23:17:09</td>\n      <td>264</td>\n      <td>tools</td>\n      <td>positive</td>\n    </tr>\n    <tr>\n      <th>13</th>\n      <td>13</td>\n      <td>Beat the summer heat with over 400 cool games ...</td>\n      <td>Providence, RI</td>\n      <td>ABCyaGames</td>\n      <td>0</td>\n      <td>2</td>\n      <td>2020-08-01 23:00:00</td>\n      <td>146</td>\n      <td>tools</td>\n      <td>positive</td>\n    </tr>\n  </tbody>\n</table>\n</div>"
     },
     "metadata": {},
     "execution_count": 125
    }
   ],
   "source": [
    "# Now create cols for sentiment and sentiment method\n",
    "us_only_data['sentiment_method'] = 'tools'\n",
    "us_only_data['sentiment'] = us_only_data.apply(lambda row: row['vader_sentiment'], axis=1)\n",
    "\n",
    "# delete the now un-needed columns\n",
    "us_only_data.drop('vader_sentiment', axis=1, inplace=True)\n",
    "us_only_data.drop('text_blob_sentiment', axis=1, inplace=True)\n",
    "us_only_data.drop('tools_match', axis=1, inplace=True)\n",
    "us_only_data.head(3)"
   ]
  },
  {
   "cell_type": "code",
   "execution_count": 126,
   "metadata": {},
   "outputs": [],
   "source": [
    "# SAVE to file\n",
    "us_only_data.to_csv('../data/us_only_external_data_tweets_TOOL_labeled.csv', index='the_id')"
   ]
  },
  {
   "cell_type": "markdown",
   "metadata": {},
   "source": [
    "## Now prepare the data I collected in January.  \n",
    "### Only keep tweets of 100 characters or more (same criteria applied to external dataset of tweets)\n",
    "### I labeled 356 tweets for sentiment. For time contraints, use the tools to labels the rest - use sentiment from tools where both agree."
   ]
  },
  {
   "cell_type": "markdown",
   "metadata": {},
   "source": [
    "### Tweets from Query in January - HUMAN sentiment label"
   ]
  },
  {
   "cell_type": "code",
   "execution_count": 71,
   "metadata": {},
   "outputs": [
    {
     "output_type": "execute_result",
     "data": {
      "text/plain": [
       "                                id_str  \\\n",
       "_id                                      \n",
       "5ffde71b5e4953000d99dc7c  1.348996e+18   \n",
       "5ffde71b5e4953000d99dc7d  1.348986e+18   \n",
       "5ffde71b5e4953000d99dc7e  1.348978e+18   \n",
       "\n",
       "                                                                    content  \\\n",
       "_id                                                                           \n",
       "5ffde71b5e4953000d99dc7c  These really are critical.\\n2yrs ago I took 9 ...   \n",
       "5ffde71b5e4953000d99dc7d  ConnectEd After School Lesson Grades K-2\\nThur...   \n",
       "5ffde71b5e4953000d99dc7e  Don't forget to register for our FREE Remote a...   \n",
       "\n",
       "                                   user_loc user_screen_name  retweet_count  \\\n",
       "_id                                                                           \n",
       "5ffde71b5e4953000d99dc7c         Texas, USA      summers_llm              0   \n",
       "5ffde71b5e4953000d99dc7d  North Dakota, USA           ncecnd              0   \n",
       "5ffde71b5e4953000d99dc7e      New York City        ReadWorks              0   \n",
       "\n",
       "                          fav_count           created_at sentiment  \n",
       "_id                                                                 \n",
       "5ffde71b5e4953000d99dc7c          0  2021-01-12 14:11:21   neutral  \n",
       "5ffde71b5e4953000d99dc7d          0  2021-01-12 13:30:04   neutral  \n",
       "5ffde71b5e4953000d99dc7e          0  2021-01-12 13:01:36   neutral  "
      ],
      "text/html": "<div>\n<style scoped>\n    .dataframe tbody tr th:only-of-type {\n        vertical-align: middle;\n    }\n\n    .dataframe tbody tr th {\n        vertical-align: top;\n    }\n\n    .dataframe thead th {\n        text-align: right;\n    }\n</style>\n<table border=\"1\" class=\"dataframe\">\n  <thead>\n    <tr style=\"text-align: right;\">\n      <th></th>\n      <th>id_str</th>\n      <th>content</th>\n      <th>user_loc</th>\n      <th>user_screen_name</th>\n      <th>retweet_count</th>\n      <th>fav_count</th>\n      <th>created_at</th>\n      <th>sentiment</th>\n    </tr>\n    <tr>\n      <th>_id</th>\n      <th></th>\n      <th></th>\n      <th></th>\n      <th></th>\n      <th></th>\n      <th></th>\n      <th></th>\n      <th></th>\n    </tr>\n  </thead>\n  <tbody>\n    <tr>\n      <th>5ffde71b5e4953000d99dc7c</th>\n      <td>1.348996e+18</td>\n      <td>These really are critical.\\n2yrs ago I took 9 ...</td>\n      <td>Texas, USA</td>\n      <td>summers_llm</td>\n      <td>0</td>\n      <td>0</td>\n      <td>2021-01-12 14:11:21</td>\n      <td>neutral</td>\n    </tr>\n    <tr>\n      <th>5ffde71b5e4953000d99dc7d</th>\n      <td>1.348986e+18</td>\n      <td>ConnectEd After School Lesson Grades K-2\\nThur...</td>\n      <td>North Dakota, USA</td>\n      <td>ncecnd</td>\n      <td>0</td>\n      <td>0</td>\n      <td>2021-01-12 13:30:04</td>\n      <td>neutral</td>\n    </tr>\n    <tr>\n      <th>5ffde71b5e4953000d99dc7e</th>\n      <td>1.348978e+18</td>\n      <td>Don't forget to register for our FREE Remote a...</td>\n      <td>New York City</td>\n      <td>ReadWorks</td>\n      <td>0</td>\n      <td>0</td>\n      <td>2021-01-12 13:01:36</td>\n      <td>neutral</td>\n    </tr>\n  </tbody>\n</table>\n</div>"
     },
     "metadata": {},
     "execution_count": 71
    }
   ],
   "source": [
    "human_labeled_q_tweets =  pd.read_csv('../data/jan_queried_tweets_HUMAN_labeled.csv', index_col='_id')\n",
    "human_labeled_q_tweets.head(3)"
   ]
  },
  {
   "cell_type": "code",
   "execution_count": 72,
   "metadata": {},
   "outputs": [
    {
     "output_type": "execute_result",
     "data": {
      "text/plain": [
       "                                id_str  \\\n",
       "_id                                      \n",
       "5fff3c1ae4a2323a8dcaedb0  1.348694e+18   \n",
       "5fff3c1ae4a2323a8dcaedb2  1.348672e+18   \n",
       "5fff3c1be4a2323a8dcaedb4  1.348653e+18   \n",
       "\n",
       "                                                                    content  \\\n",
       "_id                                                                           \n",
       "5fff3c1ae4a2323a8dcaedb0  To view the \"COVID-19 Fact Sheet K-12 School Q...   \n",
       "5fff3c1ae4a2323a8dcaedb2  Teachers K-12 are now eligible to get vaccinat...   \n",
       "5fff3c1be4a2323a8dcaedb4  Some good news: my county (Loudoun) has offici...   \n",
       "\n",
       "                                   user_loc user_screen_name  retweet_count  \\\n",
       "_id                                                                           \n",
       "5fff3c1ae4a2323a8dcaedb0       Carlisle, OH    CarlisleLocal              1   \n",
       "5fff3c1ae4a2323a8dcaedb2               Utah  UtahCoronavirus             10   \n",
       "5fff3c1be4a2323a8dcaedb4  Ashburn, Virginia        SueFliess              0   \n",
       "\n",
       "                          fav_count           created_at sentiment  char_count  \n",
       "_id                                                                             \n",
       "5fff3c1ae4a2323a8dcaedb0          2  2021-01-11 18:11:22   neutral         156  \n",
       "5fff3c1ae4a2323a8dcaedb2         39  2021-01-11 16:43:02   neutral         257  \n",
       "5fff3c1be4a2323a8dcaedb4          7  2021-01-11 15:29:35  positive         196  "
      ],
      "text/html": "<div>\n<style scoped>\n    .dataframe tbody tr th:only-of-type {\n        vertical-align: middle;\n    }\n\n    .dataframe tbody tr th {\n        vertical-align: top;\n    }\n\n    .dataframe thead th {\n        text-align: right;\n    }\n</style>\n<table border=\"1\" class=\"dataframe\">\n  <thead>\n    <tr style=\"text-align: right;\">\n      <th></th>\n      <th>id_str</th>\n      <th>content</th>\n      <th>user_loc</th>\n      <th>user_screen_name</th>\n      <th>retweet_count</th>\n      <th>fav_count</th>\n      <th>created_at</th>\n      <th>sentiment</th>\n      <th>char_count</th>\n    </tr>\n    <tr>\n      <th>_id</th>\n      <th></th>\n      <th></th>\n      <th></th>\n      <th></th>\n      <th></th>\n      <th></th>\n      <th></th>\n      <th></th>\n      <th></th>\n    </tr>\n  </thead>\n  <tbody>\n    <tr>\n      <th>5fff3c1ae4a2323a8dcaedb0</th>\n      <td>1.348694e+18</td>\n      <td>To view the \"COVID-19 Fact Sheet K-12 School Q...</td>\n      <td>Carlisle, OH</td>\n      <td>CarlisleLocal</td>\n      <td>1</td>\n      <td>2</td>\n      <td>2021-01-11 18:11:22</td>\n      <td>neutral</td>\n      <td>156</td>\n    </tr>\n    <tr>\n      <th>5fff3c1ae4a2323a8dcaedb2</th>\n      <td>1.348672e+18</td>\n      <td>Teachers K-12 are now eligible to get vaccinat...</td>\n      <td>Utah</td>\n      <td>UtahCoronavirus</td>\n      <td>10</td>\n      <td>39</td>\n      <td>2021-01-11 16:43:02</td>\n      <td>neutral</td>\n      <td>257</td>\n    </tr>\n    <tr>\n      <th>5fff3c1be4a2323a8dcaedb4</th>\n      <td>1.348653e+18</td>\n      <td>Some good news: my county (Loudoun) has offici...</td>\n      <td>Ashburn, Virginia</td>\n      <td>SueFliess</td>\n      <td>0</td>\n      <td>7</td>\n      <td>2021-01-11 15:29:35</td>\n      <td>positive</td>\n      <td>196</td>\n    </tr>\n  </tbody>\n</table>\n</div>"
     },
     "metadata": {},
     "execution_count": 72
    }
   ],
   "source": [
    "# Keep only the tweets 100 chars and over\n",
    "human_labeled_q_tweets['char_count'] = human_labeled_q_tweets.apply(lambda row: len(row['content']), axis=1)\n",
    "human_labeled_q_tweets = human_labeled_q_tweets[human_labeled_q_tweets['char_count'] >= 100]"
   ]
  },
  {
   "cell_type": "code",
   "execution_count": 79,
   "metadata": {},
   "outputs": [
    {
     "output_type": "execute_result",
     "data": {
      "text/plain": [
       "                                id_str  \\\n",
       "_id                                      \n",
       "5fff3c1ae4a2323a8dcaedb0  1.348694e+18   \n",
       "5fff3c1ae4a2323a8dcaedb2  1.348672e+18   \n",
       "5fff3c1be4a2323a8dcaedb4  1.348653e+18   \n",
       "\n",
       "                                                                    content  \\\n",
       "_id                                                                           \n",
       "5fff3c1ae4a2323a8dcaedb0  To view the \"COVID-19 Fact Sheet K-12 School Q...   \n",
       "5fff3c1ae4a2323a8dcaedb2  Teachers K-12 are now eligible to get vaccinat...   \n",
       "5fff3c1be4a2323a8dcaedb4  Some good news: my county (Loudoun) has offici...   \n",
       "\n",
       "                                   user_loc user_screen_name  retweet_count  \\\n",
       "_id                                                                           \n",
       "5fff3c1ae4a2323a8dcaedb0       Carlisle, OH    CarlisleLocal              1   \n",
       "5fff3c1ae4a2323a8dcaedb2               Utah  UtahCoronavirus             10   \n",
       "5fff3c1be4a2323a8dcaedb4  Ashburn, Virginia        SueFliess              0   \n",
       "\n",
       "                          fav_count           created_at sentiment  \\\n",
       "_id                                                                  \n",
       "5fff3c1ae4a2323a8dcaedb0          2  2021-01-11 18:11:22   neutral   \n",
       "5fff3c1ae4a2323a8dcaedb2         39  2021-01-11 16:43:02   neutral   \n",
       "5fff3c1be4a2323a8dcaedb4          7  2021-01-11 15:29:35  positive   \n",
       "\n",
       "                          char_count sentiment_method  \n",
       "_id                                                    \n",
       "5fff3c1ae4a2323a8dcaedb0         156            human  \n",
       "5fff3c1ae4a2323a8dcaedb2         257            human  \n",
       "5fff3c1be4a2323a8dcaedb4         196            human  "
      ],
      "text/html": "<div>\n<style scoped>\n    .dataframe tbody tr th:only-of-type {\n        vertical-align: middle;\n    }\n\n    .dataframe tbody tr th {\n        vertical-align: top;\n    }\n\n    .dataframe thead th {\n        text-align: right;\n    }\n</style>\n<table border=\"1\" class=\"dataframe\">\n  <thead>\n    <tr style=\"text-align: right;\">\n      <th></th>\n      <th>id_str</th>\n      <th>content</th>\n      <th>user_loc</th>\n      <th>user_screen_name</th>\n      <th>retweet_count</th>\n      <th>fav_count</th>\n      <th>created_at</th>\n      <th>sentiment</th>\n      <th>char_count</th>\n      <th>sentiment_method</th>\n    </tr>\n    <tr>\n      <th>_id</th>\n      <th></th>\n      <th></th>\n      <th></th>\n      <th></th>\n      <th></th>\n      <th></th>\n      <th></th>\n      <th></th>\n      <th></th>\n      <th></th>\n    </tr>\n  </thead>\n  <tbody>\n    <tr>\n      <th>5fff3c1ae4a2323a8dcaedb0</th>\n      <td>1.348694e+18</td>\n      <td>To view the \"COVID-19 Fact Sheet K-12 School Q...</td>\n      <td>Carlisle, OH</td>\n      <td>CarlisleLocal</td>\n      <td>1</td>\n      <td>2</td>\n      <td>2021-01-11 18:11:22</td>\n      <td>neutral</td>\n      <td>156</td>\n      <td>human</td>\n    </tr>\n    <tr>\n      <th>5fff3c1ae4a2323a8dcaedb2</th>\n      <td>1.348672e+18</td>\n      <td>Teachers K-12 are now eligible to get vaccinat...</td>\n      <td>Utah</td>\n      <td>UtahCoronavirus</td>\n      <td>10</td>\n      <td>39</td>\n      <td>2021-01-11 16:43:02</td>\n      <td>neutral</td>\n      <td>257</td>\n      <td>human</td>\n    </tr>\n    <tr>\n      <th>5fff3c1be4a2323a8dcaedb4</th>\n      <td>1.348653e+18</td>\n      <td>Some good news: my county (Loudoun) has offici...</td>\n      <td>Ashburn, Virginia</td>\n      <td>SueFliess</td>\n      <td>0</td>\n      <td>7</td>\n      <td>2021-01-11 15:29:35</td>\n      <td>positive</td>\n      <td>196</td>\n      <td>human</td>\n    </tr>\n  </tbody>\n</table>\n</div>"
     },
     "metadata": {},
     "execution_count": 79
    }
   ],
   "source": [
    "# Flag these tweets as having their sentiment set by a human\n",
    "human_labeled_q_tweets['sentiment_method'] = 'human'\n",
    "human_labeled_q_tweets.tail(3)"
   ]
  },
  {
   "cell_type": "code",
   "execution_count": 80,
   "metadata": {},
   "outputs": [
    {
     "output_type": "stream",
     "name": "stdout",
     "text": [
      "<class 'pandas.core.frame.DataFrame'>\nIndex: 348 entries, 5ffde71b5e4953000d99dc7c to 5fff3c1be4a2323a8dcaedb4\nData columns (total 10 columns):\n #   Column            Non-Null Count  Dtype  \n---  ------            --------------  -----  \n 0   id_str            348 non-null    float64\n 1   content           348 non-null    object \n 2   user_loc          348 non-null    object \n 3   user_screen_name  348 non-null    object \n 4   retweet_count     348 non-null    int64  \n 5   fav_count         348 non-null    int64  \n 6   created_at        348 non-null    object \n 7   sentiment         348 non-null    object \n 8   char_count        348 non-null    int64  \n 9   sentiment_method  348 non-null    object \ndtypes: float64(1), int64(3), object(6)\nmemory usage: 29.9+ KB\n"
     ]
    }
   ],
   "source": [
    "human_labeled_q_tweets.info()"
   ]
  },
  {
   "cell_type": "code",
   "execution_count": 81,
   "metadata": {},
   "outputs": [],
   "source": [
    "# save to file \n",
    "human_labeled_q_tweets.to_csv('../data/jan_2021_queried_tweets_HUMAN_labeled.csv', index_label='_id')"
   ]
  },
  {
   "cell_type": "markdown",
   "metadata": {},
   "source": [
    "### Tweets from query in January - not labeled yet\n"
   ]
  },
  {
   "cell_type": "code",
   "execution_count": 135,
   "metadata": {},
   "outputs": [
    {
     "output_type": "execute_result",
     "data": {
      "text/plain": [
       "                                id_str  \\\n",
       "_id                                      \n",
       "5ffde71f5e4953000d99dd55  1.348735e+18   \n",
       "5ffde71f5e4953000d99dd58  1.348704e+18   \n",
       "5ffde71f5e4953000d99dd59  1.348685e+18   \n",
       "\n",
       "                                                                    content  \\\n",
       "_id                                                                           \n",
       "5ffde71f5e4953000d99dd55  Virtual learning has caused a fair share of fr...   \n",
       "5ffde71f5e4953000d99dd58  Preparing for high school is an exciting time!...   \n",
       "5ffde71f5e4953000d99dd59  Updated list of Wi-Fi Hotspots in Accomack Cou...   \n",
       "\n",
       "                                        user_loc user_screen_name  \\\n",
       "_id                                                                 \n",
       "5ffde71f5e4953000d99dd55               Wisconsin       Edficiency   \n",
       "5ffde71f5e4953000d99dd58  St. Augustine, Florida            SJCSD   \n",
       "5ffde71f5e4953000d99dd59      Oak Hall, Virginia      AMSPANTHERS   \n",
       "\n",
       "                          retweet_count  fav_count           created_at  \n",
       "_id                                                                      \n",
       "5ffde71f5e4953000d99dd55              0          0  2021-01-11 20:55:39  \n",
       "5ffde71f5e4953000d99dd58              0          0  2021-01-11 18:51:41  \n",
       "5ffde71f5e4953000d99dd59              2          2  2021-01-11 17:33:40  "
      ],
      "text/html": "<div>\n<style scoped>\n    .dataframe tbody tr th:only-of-type {\n        vertical-align: middle;\n    }\n\n    .dataframe tbody tr th {\n        vertical-align: top;\n    }\n\n    .dataframe thead th {\n        text-align: right;\n    }\n</style>\n<table border=\"1\" class=\"dataframe\">\n  <thead>\n    <tr style=\"text-align: right;\">\n      <th></th>\n      <th>id_str</th>\n      <th>content</th>\n      <th>user_loc</th>\n      <th>user_screen_name</th>\n      <th>retweet_count</th>\n      <th>fav_count</th>\n      <th>created_at</th>\n    </tr>\n    <tr>\n      <th>_id</th>\n      <th></th>\n      <th></th>\n      <th></th>\n      <th></th>\n      <th></th>\n      <th></th>\n      <th></th>\n    </tr>\n  </thead>\n  <tbody>\n    <tr>\n      <th>5ffde71f5e4953000d99dd55</th>\n      <td>1.348735e+18</td>\n      <td>Virtual learning has caused a fair share of fr...</td>\n      <td>Wisconsin</td>\n      <td>Edficiency</td>\n      <td>0</td>\n      <td>0</td>\n      <td>2021-01-11 20:55:39</td>\n    </tr>\n    <tr>\n      <th>5ffde71f5e4953000d99dd58</th>\n      <td>1.348704e+18</td>\n      <td>Preparing for high school is an exciting time!...</td>\n      <td>St. Augustine, Florida</td>\n      <td>SJCSD</td>\n      <td>0</td>\n      <td>0</td>\n      <td>2021-01-11 18:51:41</td>\n    </tr>\n    <tr>\n      <th>5ffde71f5e4953000d99dd59</th>\n      <td>1.348685e+18</td>\n      <td>Updated list of Wi-Fi Hotspots in Accomack Cou...</td>\n      <td>Oak Hall, Virginia</td>\n      <td>AMSPANTHERS</td>\n      <td>2</td>\n      <td>2</td>\n      <td>2021-01-11 17:33:40</td>\n    </tr>\n  </tbody>\n</table>\n</div>"
     },
     "metadata": {},
     "execution_count": 135
    }
   ],
   "source": [
    "q_tweets =  pd.read_csv('../data/jan_queried_tweets_NO_label.csv', index_col='_id')\n",
    "q_tweets.head(3)"
   ]
  },
  {
   "cell_type": "code",
   "execution_count": 136,
   "metadata": {},
   "outputs": [
    {
     "output_type": "stream",
     "name": "stdout",
     "text": [
      "<class 'pandas.core.frame.DataFrame'>\nIndex: 222 entries, 5ffde71f5e4953000d99dd55 to 5fff3c11e4a2323a8dcaed8b\nData columns (total 7 columns):\n #   Column            Non-Null Count  Dtype  \n---  ------            --------------  -----  \n 0   id_str            222 non-null    float64\n 1   content           222 non-null    object \n 2   user_loc          222 non-null    object \n 3   user_screen_name  222 non-null    object \n 4   retweet_count     222 non-null    int64  \n 5   fav_count         222 non-null    int64  \n 6   created_at        222 non-null    object \ndtypes: float64(1), int64(2), object(4)\nmemory usage: 13.9+ KB\n"
     ]
    }
   ],
   "source": [
    "q_tweets.info()"
   ]
  },
  {
   "cell_type": "code",
   "execution_count": 137,
   "metadata": {},
   "outputs": [
    {
     "output_type": "execute_result",
     "data": {
      "text/plain": [
       "                                id_str  \\\n",
       "_id                                      \n",
       "5ffdfb71d17caa7111610ee9  1.347343e+18   \n",
       "5ffe2b47fcdca70acef8117a  1.346892e+18   \n",
       "5fff3c11e4a2323a8dcaed8b  1.349020e+18   \n",
       "\n",
       "                                                                    content  \\\n",
       "_id                                                                           \n",
       "5ffdfb71d17caa7111610ee9  @Eliana67045140 @UFT @ChalkbeatNY @NYCMayor @N...   \n",
       "5ffe2b47fcdca70acef8117a  Learn 3 easy ways to take #RemoteLearning to t...   \n",
       "5fff3c11e4a2323a8dcaed8b  My husband (a middle school music teacher) and...   \n",
       "\n",
       "                                   user_loc user_screen_name  retweet_count  \\\n",
       "_id                                                                           \n",
       "5ffdfb71d17caa7111610ee9                NYC  EducationMatt17              0   \n",
       "5ffe2b47fcdca70acef8117a  Boulder, Colorado        wcet_info              0   \n",
       "5fff3c11e4a2323a8dcaed8b         Albany, NY        K_J_Waite              1   \n",
       "\n",
       "                          fav_count           created_at  char_count  \n",
       "_id                                                                   \n",
       "5ffdfb71d17caa7111610ee9          0  2021-01-08 00:44:09         362  \n",
       "5ffe2b47fcdca70acef8117a          0  2021-01-06 18:52:00         156  \n",
       "5fff3c11e4a2323a8dcaed8b          6  2021-01-12 15:47:13         156  "
      ],
      "text/html": "<div>\n<style scoped>\n    .dataframe tbody tr th:only-of-type {\n        vertical-align: middle;\n    }\n\n    .dataframe tbody tr th {\n        vertical-align: top;\n    }\n\n    .dataframe thead th {\n        text-align: right;\n    }\n</style>\n<table border=\"1\" class=\"dataframe\">\n  <thead>\n    <tr style=\"text-align: right;\">\n      <th></th>\n      <th>id_str</th>\n      <th>content</th>\n      <th>user_loc</th>\n      <th>user_screen_name</th>\n      <th>retweet_count</th>\n      <th>fav_count</th>\n      <th>created_at</th>\n      <th>char_count</th>\n    </tr>\n    <tr>\n      <th>_id</th>\n      <th></th>\n      <th></th>\n      <th></th>\n      <th></th>\n      <th></th>\n      <th></th>\n      <th></th>\n      <th></th>\n    </tr>\n  </thead>\n  <tbody>\n    <tr>\n      <th>5ffdfb71d17caa7111610ee9</th>\n      <td>1.347343e+18</td>\n      <td>@Eliana67045140 @UFT @ChalkbeatNY @NYCMayor @N...</td>\n      <td>NYC</td>\n      <td>EducationMatt17</td>\n      <td>0</td>\n      <td>0</td>\n      <td>2021-01-08 00:44:09</td>\n      <td>362</td>\n    </tr>\n    <tr>\n      <th>5ffe2b47fcdca70acef8117a</th>\n      <td>1.346892e+18</td>\n      <td>Learn 3 easy ways to take #RemoteLearning to t...</td>\n      <td>Boulder, Colorado</td>\n      <td>wcet_info</td>\n      <td>0</td>\n      <td>0</td>\n      <td>2021-01-06 18:52:00</td>\n      <td>156</td>\n    </tr>\n    <tr>\n      <th>5fff3c11e4a2323a8dcaed8b</th>\n      <td>1.349020e+18</td>\n      <td>My husband (a middle school music teacher) and...</td>\n      <td>Albany, NY</td>\n      <td>K_J_Waite</td>\n      <td>1</td>\n      <td>6</td>\n      <td>2021-01-12 15:47:13</td>\n      <td>156</td>\n    </tr>\n  </tbody>\n</table>\n</div>"
     },
     "metadata": {},
     "execution_count": 137
    }
   ],
   "source": [
    "# Keep only the tweets 100 chars and over\n",
    "q_tweets['char_count'] = q_tweets.apply(lambda row: len(row['content']), axis=1)\n",
    "q_tweets = q_tweets[q_tweets['char_count'] >= 100]\n",
    "q_tweets.tail(3)"
   ]
  },
  {
   "cell_type": "code",
   "execution_count": 138,
   "metadata": {},
   "outputs": [
    {
     "output_type": "stream",
     "name": "stdout",
     "text": [
      "(130, 11)\n"
     ]
    },
    {
     "output_type": "execute_result",
     "data": {
      "text/plain": [
       "                                id_str  \\\n",
       "_id                                      \n",
       "5ffde71f5e4953000d99dd55  1.348735e+18   \n",
       "5ffde71f5e4953000d99dd58  1.348704e+18   \n",
       "5ffde71f5e4953000d99dd5d  1.348672e+18   \n",
       "\n",
       "                                                                    content  \\\n",
       "_id                                                                           \n",
       "5ffde71f5e4953000d99dd55  Virtual learning has caused a fair share of fr...   \n",
       "5ffde71f5e4953000d99dd58  Preparing for high school is an exciting time!...   \n",
       "5ffde71f5e4953000d99dd5d  The Nature-based 4K Parent Night for enrollmen...   \n",
       "\n",
       "                                        user_loc user_screen_name  \\\n",
       "_id                                                                 \n",
       "5ffde71f5e4953000d99dd55               Wisconsin       Edficiency   \n",
       "5ffde71f5e4953000d99dd58  St. Augustine, Florida            SJCSD   \n",
       "5ffde71f5e4953000d99dd5d             Newburg, WI      RiveredgeNC   \n",
       "\n",
       "                          retweet_count  fav_count           created_at  \\\n",
       "_id                                                                       \n",
       "5ffde71f5e4953000d99dd55              0          0  2021-01-11 20:55:39   \n",
       "5ffde71f5e4953000d99dd58              0          0  2021-01-11 18:51:41   \n",
       "5ffde71f5e4953000d99dd5d              0          0  2021-01-11 16:42:40   \n",
       "\n",
       "                          char_count vader_sentiment text_blob_sentiment  \\\n",
       "_id                                                                        \n",
       "5ffde71f5e4953000d99dd55         272        positive            positive   \n",
       "5ffde71f5e4953000d99dd58         221        positive            positive   \n",
       "5ffde71f5e4953000d99dd5d         276        positive            positive   \n",
       "\n",
       "                          tools_match  \n",
       "_id                                    \n",
       "5ffde71f5e4953000d99dd55         True  \n",
       "5ffde71f5e4953000d99dd58         True  \n",
       "5ffde71f5e4953000d99dd5d         True  "
      ],
      "text/html": "<div>\n<style scoped>\n    .dataframe tbody tr th:only-of-type {\n        vertical-align: middle;\n    }\n\n    .dataframe tbody tr th {\n        vertical-align: top;\n    }\n\n    .dataframe thead th {\n        text-align: right;\n    }\n</style>\n<table border=\"1\" class=\"dataframe\">\n  <thead>\n    <tr style=\"text-align: right;\">\n      <th></th>\n      <th>id_str</th>\n      <th>content</th>\n      <th>user_loc</th>\n      <th>user_screen_name</th>\n      <th>retweet_count</th>\n      <th>fav_count</th>\n      <th>created_at</th>\n      <th>char_count</th>\n      <th>vader_sentiment</th>\n      <th>text_blob_sentiment</th>\n      <th>tools_match</th>\n    </tr>\n    <tr>\n      <th>_id</th>\n      <th></th>\n      <th></th>\n      <th></th>\n      <th></th>\n      <th></th>\n      <th></th>\n      <th></th>\n      <th></th>\n      <th></th>\n      <th></th>\n      <th></th>\n    </tr>\n  </thead>\n  <tbody>\n    <tr>\n      <th>5ffde71f5e4953000d99dd55</th>\n      <td>1.348735e+18</td>\n      <td>Virtual learning has caused a fair share of fr...</td>\n      <td>Wisconsin</td>\n      <td>Edficiency</td>\n      <td>0</td>\n      <td>0</td>\n      <td>2021-01-11 20:55:39</td>\n      <td>272</td>\n      <td>positive</td>\n      <td>positive</td>\n      <td>True</td>\n    </tr>\n    <tr>\n      <th>5ffde71f5e4953000d99dd58</th>\n      <td>1.348704e+18</td>\n      <td>Preparing for high school is an exciting time!...</td>\n      <td>St. Augustine, Florida</td>\n      <td>SJCSD</td>\n      <td>0</td>\n      <td>0</td>\n      <td>2021-01-11 18:51:41</td>\n      <td>221</td>\n      <td>positive</td>\n      <td>positive</td>\n      <td>True</td>\n    </tr>\n    <tr>\n      <th>5ffde71f5e4953000d99dd5d</th>\n      <td>1.348672e+18</td>\n      <td>The Nature-based 4K Parent Night for enrollmen...</td>\n      <td>Newburg, WI</td>\n      <td>RiveredgeNC</td>\n      <td>0</td>\n      <td>0</td>\n      <td>2021-01-11 16:42:40</td>\n      <td>276</td>\n      <td>positive</td>\n      <td>positive</td>\n      <td>True</td>\n    </tr>\n  </tbody>\n</table>\n</div>"
     },
     "metadata": {},
     "execution_count": 138
    }
   ],
   "source": [
    "# Get the VADER and TextBlob sentiments\n",
    "analyzer = SentimentIntensityAnalyzer()\n",
    "q_tweets['vader_sentiment'] = q_tweets.apply(lambda row: get_vader_sentiment(analyzer, row['content']), axis=1)\n",
    "q_tweets['text_blob_sentiment'] = q_tweets.apply(lambda row: get_text_blob_sentiment(row['content']), axis=1)\n",
    "\n",
    "# Mark where the two tools agree\n",
    "q_tweets['tools_match'] = q_tweets.apply(lambda row: get_tools_match(row['vader_sentiment'], row['text_blob_sentiment']), axis=1)\n",
    "\n",
    "# keep only the tweets where the tools agree \n",
    "q_tweets = q_tweets[q_tweets['tools_match']]\n",
    "print(q_tweets.shape)\n",
    "q_tweets.head(3)\n"
   ]
  },
  {
   "cell_type": "code",
   "execution_count": 139,
   "metadata": {},
   "outputs": [
    {
     "output_type": "execute_result",
     "data": {
      "text/plain": [
       "                                id_str  \\\n",
       "_id                                      \n",
       "5ffde71f5e4953000d99dd55  1.348735e+18   \n",
       "5ffde71f5e4953000d99dd58  1.348704e+18   \n",
       "5ffde71f5e4953000d99dd5d  1.348672e+18   \n",
       "\n",
       "                                                                    content  \\\n",
       "_id                                                                           \n",
       "5ffde71f5e4953000d99dd55  Virtual learning has caused a fair share of fr...   \n",
       "5ffde71f5e4953000d99dd58  Preparing for high school is an exciting time!...   \n",
       "5ffde71f5e4953000d99dd5d  The Nature-based 4K Parent Night for enrollmen...   \n",
       "\n",
       "                                        user_loc user_screen_name  \\\n",
       "_id                                                                 \n",
       "5ffde71f5e4953000d99dd55               Wisconsin       Edficiency   \n",
       "5ffde71f5e4953000d99dd58  St. Augustine, Florida            SJCSD   \n",
       "5ffde71f5e4953000d99dd5d             Newburg, WI      RiveredgeNC   \n",
       "\n",
       "                          retweet_count  fav_count           created_at  \\\n",
       "_id                                                                       \n",
       "5ffde71f5e4953000d99dd55              0          0  2021-01-11 20:55:39   \n",
       "5ffde71f5e4953000d99dd58              0          0  2021-01-11 18:51:41   \n",
       "5ffde71f5e4953000d99dd5d              0          0  2021-01-11 16:42:40   \n",
       "\n",
       "                          char_count sentiment_method sentiment  \n",
       "_id                                                              \n",
       "5ffde71f5e4953000d99dd55         272            tools  positive  \n",
       "5ffde71f5e4953000d99dd58         221            tools  positive  \n",
       "5ffde71f5e4953000d99dd5d         276            tools  positive  "
      ],
      "text/html": "<div>\n<style scoped>\n    .dataframe tbody tr th:only-of-type {\n        vertical-align: middle;\n    }\n\n    .dataframe tbody tr th {\n        vertical-align: top;\n    }\n\n    .dataframe thead th {\n        text-align: right;\n    }\n</style>\n<table border=\"1\" class=\"dataframe\">\n  <thead>\n    <tr style=\"text-align: right;\">\n      <th></th>\n      <th>id_str</th>\n      <th>content</th>\n      <th>user_loc</th>\n      <th>user_screen_name</th>\n      <th>retweet_count</th>\n      <th>fav_count</th>\n      <th>created_at</th>\n      <th>char_count</th>\n      <th>sentiment_method</th>\n      <th>sentiment</th>\n    </tr>\n    <tr>\n      <th>_id</th>\n      <th></th>\n      <th></th>\n      <th></th>\n      <th></th>\n      <th></th>\n      <th></th>\n      <th></th>\n      <th></th>\n      <th></th>\n      <th></th>\n    </tr>\n  </thead>\n  <tbody>\n    <tr>\n      <th>5ffde71f5e4953000d99dd55</th>\n      <td>1.348735e+18</td>\n      <td>Virtual learning has caused a fair share of fr...</td>\n      <td>Wisconsin</td>\n      <td>Edficiency</td>\n      <td>0</td>\n      <td>0</td>\n      <td>2021-01-11 20:55:39</td>\n      <td>272</td>\n      <td>tools</td>\n      <td>positive</td>\n    </tr>\n    <tr>\n      <th>5ffde71f5e4953000d99dd58</th>\n      <td>1.348704e+18</td>\n      <td>Preparing for high school is an exciting time!...</td>\n      <td>St. Augustine, Florida</td>\n      <td>SJCSD</td>\n      <td>0</td>\n      <td>0</td>\n      <td>2021-01-11 18:51:41</td>\n      <td>221</td>\n      <td>tools</td>\n      <td>positive</td>\n    </tr>\n    <tr>\n      <th>5ffde71f5e4953000d99dd5d</th>\n      <td>1.348672e+18</td>\n      <td>The Nature-based 4K Parent Night for enrollmen...</td>\n      <td>Newburg, WI</td>\n      <td>RiveredgeNC</td>\n      <td>0</td>\n      <td>0</td>\n      <td>2021-01-11 16:42:40</td>\n      <td>276</td>\n      <td>tools</td>\n      <td>positive</td>\n    </tr>\n  </tbody>\n</table>\n</div>"
     },
     "metadata": {},
     "execution_count": 139
    }
   ],
   "source": [
    "# Now create cols for sentiment and sentiment method\n",
    "q_tweets['sentiment_method'] = 'tools'\n",
    "q_tweets['sentiment'] = q_tweets.apply(lambda row: row['vader_sentiment'], axis=1)\n",
    "\n",
    "# delete the now un-needed columns\n",
    "q_tweets.drop('vader_sentiment', axis=1, inplace=True)\n",
    "q_tweets.drop('text_blob_sentiment', axis=1, inplace=True)\n",
    "q_tweets.drop('tools_match', axis=1, inplace=True)\n",
    "q_tweets.head(3)"
   ]
  },
  {
   "cell_type": "code",
   "execution_count": 140,
   "metadata": {},
   "outputs": [],
   "source": [
    "# save to file \n",
    "q_tweets.to_csv('../data/jan_2021_queried_tweets_TOOL_labeled.csv', index_label='_id')"
   ]
  },
  {
   "cell_type": "markdown",
   "metadata": {},
   "source": [
    "### Now prepare the Tweets that I collected via Streaming over several days in January\n"
   ]
  },
  {
   "cell_type": "code",
   "execution_count": 141,
   "metadata": {},
   "outputs": [
    {
     "output_type": "execute_result",
     "data": {
      "text/plain": [
       "                                id_str  \\\n",
       "_id                                      \n",
       "5ffde42364e25f9f26125929  1.349054e+18   \n",
       "5ffde4c064e25f9f2612592a  1.349055e+18   \n",
       "5ffde54d64e25f9f2612592b  1.349055e+18   \n",
       "\n",
       "                                                                    content  \\\n",
       "_id                                                                           \n",
       "5ffde42364e25f9f26125929  Open Forum!\\n\\nVirtual Parent Hangout - Januar...   \n",
       "5ffde4c064e25f9f2612592a  @besf0rt Never forget in 2000 profiling a Japa...   \n",
       "5ffde54d64e25f9f2612592b  “This year, the “mothers and others” are turni...   \n",
       "\n",
       "                                       user_loc user_screen_name  \\\n",
       "_id                                                                \n",
       "5ffde42364e25f9f26125929       Indianapolis, IN      ISDHoosiers   \n",
       "5ffde4c064e25f9f2612592a      Florida hellmouth   ImperialeNancy   \n",
       "5ffde54d64e25f9f2612592b  Suburban DC, Maryland  gunsensemelissa   \n",
       "\n",
       "                          retweet_count  fav_count           created_at  \n",
       "_id                                                                      \n",
       "5ffde42364e25f9f26125929              0          0  2021-01-12 18:02:06  \n",
       "5ffde4c064e25f9f2612592a              0          0  2021-01-12 18:04:43  \n",
       "5ffde54d64e25f9f2612592b              0          0  2021-01-12 18:07:04  "
      ],
      "text/html": "<div>\n<style scoped>\n    .dataframe tbody tr th:only-of-type {\n        vertical-align: middle;\n    }\n\n    .dataframe tbody tr th {\n        vertical-align: top;\n    }\n\n    .dataframe thead th {\n        text-align: right;\n    }\n</style>\n<table border=\"1\" class=\"dataframe\">\n  <thead>\n    <tr style=\"text-align: right;\">\n      <th></th>\n      <th>id_str</th>\n      <th>content</th>\n      <th>user_loc</th>\n      <th>user_screen_name</th>\n      <th>retweet_count</th>\n      <th>fav_count</th>\n      <th>created_at</th>\n    </tr>\n    <tr>\n      <th>_id</th>\n      <th></th>\n      <th></th>\n      <th></th>\n      <th></th>\n      <th></th>\n      <th></th>\n      <th></th>\n    </tr>\n  </thead>\n  <tbody>\n    <tr>\n      <th>5ffde42364e25f9f26125929</th>\n      <td>1.349054e+18</td>\n      <td>Open Forum!\\n\\nVirtual Parent Hangout - Januar...</td>\n      <td>Indianapolis, IN</td>\n      <td>ISDHoosiers</td>\n      <td>0</td>\n      <td>0</td>\n      <td>2021-01-12 18:02:06</td>\n    </tr>\n    <tr>\n      <th>5ffde4c064e25f9f2612592a</th>\n      <td>1.349055e+18</td>\n      <td>@besf0rt Never forget in 2000 profiling a Japa...</td>\n      <td>Florida hellmouth</td>\n      <td>ImperialeNancy</td>\n      <td>0</td>\n      <td>0</td>\n      <td>2021-01-12 18:04:43</td>\n    </tr>\n    <tr>\n      <th>5ffde54d64e25f9f2612592b</th>\n      <td>1.349055e+18</td>\n      <td>“This year, the “mothers and others” are turni...</td>\n      <td>Suburban DC, Maryland</td>\n      <td>gunsensemelissa</td>\n      <td>0</td>\n      <td>0</td>\n      <td>2021-01-12 18:07:04</td>\n    </tr>\n  </tbody>\n</table>\n</div>"
     },
     "metadata": {},
     "execution_count": 141
    }
   ],
   "source": [
    "s_tweets =  pd.read_csv('../data/jan_streaming_tweets_NO_label.csv', index_col='_id')\n",
    "s_tweets.head(3)"
   ]
  },
  {
   "cell_type": "code",
   "execution_count": 142,
   "metadata": {},
   "outputs": [
    {
     "output_type": "stream",
     "name": "stdout",
     "text": [
      "<class 'pandas.core.frame.DataFrame'>\nIndex: 386 entries, 5ffde42364e25f9f26125929 to 6000ae13ea6b89c2fd8a27be\nData columns (total 7 columns):\n #   Column            Non-Null Count  Dtype  \n---  ------            --------------  -----  \n 0   id_str            386 non-null    float64\n 1   content           386 non-null    object \n 2   user_loc          386 non-null    object \n 3   user_screen_name  386 non-null    object \n 4   retweet_count     386 non-null    int64  \n 5   fav_count         386 non-null    int64  \n 6   created_at        386 non-null    object \ndtypes: float64(1), int64(2), object(4)\nmemory usage: 24.1+ KB\n"
     ]
    }
   ],
   "source": [
    "s_tweets.info()"
   ]
  },
  {
   "cell_type": "code",
   "execution_count": 143,
   "metadata": {},
   "outputs": [
    {
     "output_type": "execute_result",
     "data": {
      "text/plain": [
       "                                id_str  \\\n",
       "_id                                      \n",
       "6000aafbea6b89c2fd8a27ba  1.349817e+18   \n",
       "6000abcdea6b89c2fd8a27bc  1.349818e+18   \n",
       "6000ae13ea6b89c2fd8a27be  1.349821e+18   \n",
       "\n",
       "                                                                    content  \\\n",
       "_id                                                                           \n",
       "6000aafbea6b89c2fd8a27ba  For teaching at K-12, you need at least a bach...   \n",
       "6000abcdea6b89c2fd8a27bc  Pennyrile Health Department Expects COVID Vacc...   \n",
       "6000ae13ea6b89c2fd8a27be  @joml76 My husband is a K-12 school employee, ...   \n",
       "\n",
       "                               user_loc user_screen_name  retweet_count  \\\n",
       "_id                                                                       \n",
       "6000aafbea6b89c2fd8a27ba            USA         JIMMYESL              0   \n",
       "6000abcdea6b89c2fd8a27bc  Princeton, KY       wpkyonline              0   \n",
       "6000ae13ea6b89c2fd8a27be  Michigan, USA         tvfan201              0   \n",
       "\n",
       "                          fav_count           created_at  char_count  \n",
       "_id                                                                   \n",
       "6000aafbea6b89c2fd8a27ba          0  2021-01-14 20:35:02         306  \n",
       "6000abcdea6b89c2fd8a27bc          0  2021-01-14 20:38:32         243  \n",
       "6000ae13ea6b89c2fd8a27be          0  2021-01-14 20:48:14         192  "
      ],
      "text/html": "<div>\n<style scoped>\n    .dataframe tbody tr th:only-of-type {\n        vertical-align: middle;\n    }\n\n    .dataframe tbody tr th {\n        vertical-align: top;\n    }\n\n    .dataframe thead th {\n        text-align: right;\n    }\n</style>\n<table border=\"1\" class=\"dataframe\">\n  <thead>\n    <tr style=\"text-align: right;\">\n      <th></th>\n      <th>id_str</th>\n      <th>content</th>\n      <th>user_loc</th>\n      <th>user_screen_name</th>\n      <th>retweet_count</th>\n      <th>fav_count</th>\n      <th>created_at</th>\n      <th>char_count</th>\n    </tr>\n    <tr>\n      <th>_id</th>\n      <th></th>\n      <th></th>\n      <th></th>\n      <th></th>\n      <th></th>\n      <th></th>\n      <th></th>\n      <th></th>\n    </tr>\n  </thead>\n  <tbody>\n    <tr>\n      <th>6000aafbea6b89c2fd8a27ba</th>\n      <td>1.349817e+18</td>\n      <td>For teaching at K-12, you need at least a bach...</td>\n      <td>USA</td>\n      <td>JIMMYESL</td>\n      <td>0</td>\n      <td>0</td>\n      <td>2021-01-14 20:35:02</td>\n      <td>306</td>\n    </tr>\n    <tr>\n      <th>6000abcdea6b89c2fd8a27bc</th>\n      <td>1.349818e+18</td>\n      <td>Pennyrile Health Department Expects COVID Vacc...</td>\n      <td>Princeton, KY</td>\n      <td>wpkyonline</td>\n      <td>0</td>\n      <td>0</td>\n      <td>2021-01-14 20:38:32</td>\n      <td>243</td>\n    </tr>\n    <tr>\n      <th>6000ae13ea6b89c2fd8a27be</th>\n      <td>1.349821e+18</td>\n      <td>@joml76 My husband is a K-12 school employee, ...</td>\n      <td>Michigan, USA</td>\n      <td>tvfan201</td>\n      <td>0</td>\n      <td>0</td>\n      <td>2021-01-14 20:48:14</td>\n      <td>192</td>\n    </tr>\n  </tbody>\n</table>\n</div>"
     },
     "metadata": {},
     "execution_count": 143
    }
   ],
   "source": [
    "# Keep only the tweets 100 chars and over\n",
    "s_tweets['char_count'] = s_tweets.apply(lambda row: len(row['content']), axis=1)\n",
    "s_tweets = s_tweets[s_tweets['char_count'] >= 100]\n",
    "s_tweets.tail(3)"
   ]
  },
  {
   "cell_type": "code",
   "execution_count": 144,
   "metadata": {},
   "outputs": [
    {
     "output_type": "stream",
     "name": "stdout",
     "text": [
      "(193, 11)\n"
     ]
    },
    {
     "output_type": "execute_result",
     "data": {
      "text/plain": [
       "                                id_str  \\\n",
       "_id                                      \n",
       "5ffde60d64e25f9f2612592c  1.349056e+18   \n",
       "5ffdf9c180d443513a191637  1.349077e+18   \n",
       "5ffdfcbbed845d2d2c79e966  1.349080e+18   \n",
       "\n",
       "                                                                    content  \\\n",
       "_id                                                                           \n",
       "5ffde60d64e25f9f2612592c  If a student is missing class a bunch, their g...   \n",
       "5ffdf9c180d443513a191637  @JamesTodaroMD @ConservMama17 I went to proms,...   \n",
       "5ffdfcbbed845d2d2c79e966  Last weeks blog by @RachelJTeaches provides an...   \n",
       "\n",
       "                                         user_loc user_screen_name  \\\n",
       "_id                                                                  \n",
       "5ffde60d64e25f9f2612592c                Provo, UT      avatargrace   \n",
       "5ffdf9c180d443513a191637  Mountains of California     AudreyJeanne   \n",
       "5ffdfcbbed845d2d2c79e966            Arlington, VA     intellispark   \n",
       "\n",
       "                          retweet_count  fav_count           created_at  \\\n",
       "_id                                                                       \n",
       "5ffde60d64e25f9f2612592c              0          0  2021-01-12 18:10:16   \n",
       "5ffdf9c180d443513a191637              0          0  2021-01-12 19:34:19   \n",
       "5ffdfcbbed845d2d2c79e966              0          0  2021-01-12 19:47:01   \n",
       "\n",
       "                          char_count vader_sentiment text_blob_sentiment  \\\n",
       "_id                                                                        \n",
       "5ffde60d64e25f9f2612592c         275        negative            negative   \n",
       "5ffdf9c180d443513a191637         308        positive            positive   \n",
       "5ffdfcbbed845d2d2c79e966         200        positive            positive   \n",
       "\n",
       "                          tools_match  \n",
       "_id                                    \n",
       "5ffde60d64e25f9f2612592c         True  \n",
       "5ffdf9c180d443513a191637         True  \n",
       "5ffdfcbbed845d2d2c79e966         True  "
      ],
      "text/html": "<div>\n<style scoped>\n    .dataframe tbody tr th:only-of-type {\n        vertical-align: middle;\n    }\n\n    .dataframe tbody tr th {\n        vertical-align: top;\n    }\n\n    .dataframe thead th {\n        text-align: right;\n    }\n</style>\n<table border=\"1\" class=\"dataframe\">\n  <thead>\n    <tr style=\"text-align: right;\">\n      <th></th>\n      <th>id_str</th>\n      <th>content</th>\n      <th>user_loc</th>\n      <th>user_screen_name</th>\n      <th>retweet_count</th>\n      <th>fav_count</th>\n      <th>created_at</th>\n      <th>char_count</th>\n      <th>vader_sentiment</th>\n      <th>text_blob_sentiment</th>\n      <th>tools_match</th>\n    </tr>\n    <tr>\n      <th>_id</th>\n      <th></th>\n      <th></th>\n      <th></th>\n      <th></th>\n      <th></th>\n      <th></th>\n      <th></th>\n      <th></th>\n      <th></th>\n      <th></th>\n      <th></th>\n    </tr>\n  </thead>\n  <tbody>\n    <tr>\n      <th>5ffde60d64e25f9f2612592c</th>\n      <td>1.349056e+18</td>\n      <td>If a student is missing class a bunch, their g...</td>\n      <td>Provo, UT</td>\n      <td>avatargrace</td>\n      <td>0</td>\n      <td>0</td>\n      <td>2021-01-12 18:10:16</td>\n      <td>275</td>\n      <td>negative</td>\n      <td>negative</td>\n      <td>True</td>\n    </tr>\n    <tr>\n      <th>5ffdf9c180d443513a191637</th>\n      <td>1.349077e+18</td>\n      <td>@JamesTodaroMD @ConservMama17 I went to proms,...</td>\n      <td>Mountains of California</td>\n      <td>AudreyJeanne</td>\n      <td>0</td>\n      <td>0</td>\n      <td>2021-01-12 19:34:19</td>\n      <td>308</td>\n      <td>positive</td>\n      <td>positive</td>\n      <td>True</td>\n    </tr>\n    <tr>\n      <th>5ffdfcbbed845d2d2c79e966</th>\n      <td>1.349080e+18</td>\n      <td>Last weeks blog by @RachelJTeaches provides an...</td>\n      <td>Arlington, VA</td>\n      <td>intellispark</td>\n      <td>0</td>\n      <td>0</td>\n      <td>2021-01-12 19:47:01</td>\n      <td>200</td>\n      <td>positive</td>\n      <td>positive</td>\n      <td>True</td>\n    </tr>\n  </tbody>\n</table>\n</div>"
     },
     "metadata": {},
     "execution_count": 144
    }
   ],
   "source": [
    "# Get the VADER and TextBlob sentiments\n",
    "analyzer = SentimentIntensityAnalyzer()\n",
    "s_tweets['vader_sentiment'] = s_tweets.apply(lambda row: get_vader_sentiment(analyzer, row['content']), axis=1)\n",
    "s_tweets['text_blob_sentiment'] = s_tweets.apply(lambda row: get_text_blob_sentiment(row['content']), axis=1)\n",
    "\n",
    "# Mark where the two tools agree\n",
    "s_tweets['tools_match'] = s_tweets.apply(lambda row: get_tools_match(row['vader_sentiment'], row['text_blob_sentiment']), axis=1)\n",
    "\n",
    "# keep only the tweets where the tools agree \n",
    "s_tweets = s_tweets[s_tweets['tools_match']]\n",
    "print(s_tweets.shape)\n",
    "s_tweets.head(3)"
   ]
  },
  {
   "cell_type": "code",
   "execution_count": 145,
   "metadata": {},
   "outputs": [
    {
     "output_type": "execute_result",
     "data": {
      "text/plain": [
       "                                id_str  \\\n",
       "_id                                      \n",
       "5ffde60d64e25f9f2612592c  1.349056e+18   \n",
       "5ffdf9c180d443513a191637  1.349077e+18   \n",
       "5ffdfcbbed845d2d2c79e966  1.349080e+18   \n",
       "\n",
       "                                                                    content  \\\n",
       "_id                                                                           \n",
       "5ffde60d64e25f9f2612592c  If a student is missing class a bunch, their g...   \n",
       "5ffdf9c180d443513a191637  @JamesTodaroMD @ConservMama17 I went to proms,...   \n",
       "5ffdfcbbed845d2d2c79e966  Last weeks blog by @RachelJTeaches provides an...   \n",
       "\n",
       "                                         user_loc user_screen_name  \\\n",
       "_id                                                                  \n",
       "5ffde60d64e25f9f2612592c                Provo, UT      avatargrace   \n",
       "5ffdf9c180d443513a191637  Mountains of California     AudreyJeanne   \n",
       "5ffdfcbbed845d2d2c79e966            Arlington, VA     intellispark   \n",
       "\n",
       "                          retweet_count  fav_count           created_at  \\\n",
       "_id                                                                       \n",
       "5ffde60d64e25f9f2612592c              0          0  2021-01-12 18:10:16   \n",
       "5ffdf9c180d443513a191637              0          0  2021-01-12 19:34:19   \n",
       "5ffdfcbbed845d2d2c79e966              0          0  2021-01-12 19:47:01   \n",
       "\n",
       "                          char_count sentiment_method sentiment  \n",
       "_id                                                              \n",
       "5ffde60d64e25f9f2612592c         275            tools  negative  \n",
       "5ffdf9c180d443513a191637         308            tools  positive  \n",
       "5ffdfcbbed845d2d2c79e966         200            tools  positive  "
      ],
      "text/html": "<div>\n<style scoped>\n    .dataframe tbody tr th:only-of-type {\n        vertical-align: middle;\n    }\n\n    .dataframe tbody tr th {\n        vertical-align: top;\n    }\n\n    .dataframe thead th {\n        text-align: right;\n    }\n</style>\n<table border=\"1\" class=\"dataframe\">\n  <thead>\n    <tr style=\"text-align: right;\">\n      <th></th>\n      <th>id_str</th>\n      <th>content</th>\n      <th>user_loc</th>\n      <th>user_screen_name</th>\n      <th>retweet_count</th>\n      <th>fav_count</th>\n      <th>created_at</th>\n      <th>char_count</th>\n      <th>sentiment_method</th>\n      <th>sentiment</th>\n    </tr>\n    <tr>\n      <th>_id</th>\n      <th></th>\n      <th></th>\n      <th></th>\n      <th></th>\n      <th></th>\n      <th></th>\n      <th></th>\n      <th></th>\n      <th></th>\n      <th></th>\n    </tr>\n  </thead>\n  <tbody>\n    <tr>\n      <th>5ffde60d64e25f9f2612592c</th>\n      <td>1.349056e+18</td>\n      <td>If a student is missing class a bunch, their g...</td>\n      <td>Provo, UT</td>\n      <td>avatargrace</td>\n      <td>0</td>\n      <td>0</td>\n      <td>2021-01-12 18:10:16</td>\n      <td>275</td>\n      <td>tools</td>\n      <td>negative</td>\n    </tr>\n    <tr>\n      <th>5ffdf9c180d443513a191637</th>\n      <td>1.349077e+18</td>\n      <td>@JamesTodaroMD @ConservMama17 I went to proms,...</td>\n      <td>Mountains of California</td>\n      <td>AudreyJeanne</td>\n      <td>0</td>\n      <td>0</td>\n      <td>2021-01-12 19:34:19</td>\n      <td>308</td>\n      <td>tools</td>\n      <td>positive</td>\n    </tr>\n    <tr>\n      <th>5ffdfcbbed845d2d2c79e966</th>\n      <td>1.349080e+18</td>\n      <td>Last weeks blog by @RachelJTeaches provides an...</td>\n      <td>Arlington, VA</td>\n      <td>intellispark</td>\n      <td>0</td>\n      <td>0</td>\n      <td>2021-01-12 19:47:01</td>\n      <td>200</td>\n      <td>tools</td>\n      <td>positive</td>\n    </tr>\n  </tbody>\n</table>\n</div>"
     },
     "metadata": {},
     "execution_count": 145
    }
   ],
   "source": [
    "# Now create cols for sentiment and sentiment method\n",
    "s_tweets['sentiment_method'] = 'tools'\n",
    "s_tweets['sentiment'] = s_tweets.apply(lambda row: row['vader_sentiment'], axis=1)\n",
    "s_tweets.head(3)\n",
    "\n",
    "# delete the now un-needed columns\n",
    "s_tweets.drop('vader_sentiment', axis=1, inplace=True)\n",
    "s_tweets.drop('text_blob_sentiment', axis=1, inplace=True)\n",
    "s_tweets.drop('tools_match', axis=1, inplace=True)\n",
    "s_tweets.head(3)"
   ]
  },
  {
   "cell_type": "code",
   "execution_count": 146,
   "metadata": {},
   "outputs": [],
   "source": [
    "# save to file \n",
    "s_tweets.to_csv('../data/jan_2021_streaming_tweets_TOOL_labeled.csv', index_label='_id')"
   ]
  },
  {
   "cell_type": "code",
   "execution_count": null,
   "metadata": {},
   "outputs": [],
   "source": []
  }
 ]
}