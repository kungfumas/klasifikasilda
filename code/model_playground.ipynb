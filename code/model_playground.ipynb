{
 "metadata": {
  "language_info": {
   "codemirror_mode": {
    "name": "ipython",
    "version": 3
   },
   "file_extension": ".py",
   "mimetype": "text/x-python",
   "name": "python",
   "nbconvert_exporter": "python",
   "pygments_lexer": "ipython3",
   "version": "3.6.9-final"
  },
  "orig_nbformat": 2,
  "kernelspec": {
   "name": "Python 3.6.9 64-bit",
   "display_name": "Python 3.6.9 64-bit",
   "metadata": {
    "interpreter": {
     "hash": "4535bfad872b0023e1fa85bd7b3c83a64ea39ab51ed0133218ea0a816c02d554"
    }
   }
  }
 },
 "nbformat": 4,
 "nbformat_minor": 2,
 "cells": [
  {
   "cell_type": "code",
   "execution_count": 1,
   "metadata": {},
   "outputs": [],
   "source": [
    "import pickle\n"
   ]
  },
  {
   "cell_type": "code",
   "execution_count": null,
   "metadata": {},
   "outputs": [],
   "source": []
  },
  {
   "cell_type": "code",
   "execution_count": null,
   "metadata": {},
   "outputs": [],
   "source": [
    "# Try out picking the trained model and loading it back in when there is new data to test it on.\n",
    "# ex:\n",
    "# model.fit(X_train, X_test)\n",
    "# #Pickel the trained model\n",
    "# with open('fitted_model.pickle', 'wb') as modelFile:\n",
    "#      pickle.dump(model, modelFile)\n",
    "#\n",
    "# #Load pre-trained model - no need to retrain it again\n",
    "# with open('itted_model.pickle', 'rb') as modelFile:\n",
    "#    model = pickle.load(modelFile)\n",
    "#\n",
    "# #Predict with new data\n",
    "# prediction = model.predict(new_data)"
   ]
  }
 ]
}