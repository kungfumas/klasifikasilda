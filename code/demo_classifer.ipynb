{
 "metadata": {
  "language_info": {
   "codemirror_mode": {
    "name": "ipython",
    "version": 3
   },
   "file_extension": ".py",
   "mimetype": "text/x-python",
   "name": "python",
   "nbconvert_exporter": "python",
   "pygments_lexer": "ipython3",
   "version": "3.6.9-final"
  },
  "orig_nbformat": 2,
  "kernelspec": {
   "name": "Python 3.6.9 64-bit ('flatiron': conda)",
   "display_name": "Python 3.6.9 64-bit ('flatiron': conda)",
   "metadata": {
    "interpreter": {
     "hash": "4535bfad872b0023e1fa85bd7b3c83a64ea39ab51ed0133218ea0a816c02d554"
    }
   }
  }
 },
 "nbformat": 4,
 "nbformat_minor": 2,
 "cells": [
  {
   "cell_type": "markdown",
   "metadata": {},
   "source": [
    "# Demo the Sentiment Classifer"
   ]
  },
  {
   "cell_type": "code",
   "execution_count": 2,
   "metadata": {},
   "outputs": [],
   "source": [
    "import pickle\n",
    "\n",
    "import nltk\n",
    "from nltk.corpus import stopwords\n",
    "from nltk import word_tokenize, FreqDist\n",
    "from nltk.tokenize import TweetTokenizer\n",
    "from nltk.stem import WordNetLemmatizer\n",
    "import string\n",
    "import re\n",
    "\n",
    "from sklearn.metrics import confusion_matrix, accuracy_score, f1_score, plot_confusion_matrix, classification_report\n",
    "from sklearn.svm import LinearSVC\n",
    "\n",
    "import pandas as pd\n"
   ]
  },
  {
   "cell_type": "code",
   "execution_count": 3,
   "metadata": {},
   "outputs": [],
   "source": [
    "tweet_tokenizer = TweetTokenizer(preserve_case=True, strip_handles=True, reduce_len=True)\n",
    "lemmatizer = WordNetLemmatizer()\n",
    "\n",
    "def tokenize_lemmatize_tweet(tweet):\n",
    "    ''' \n",
    "    Tokenize then Lemmatize the given tweet \n",
    "    '''\n",
    "    #remove links\n",
    "    tweet = re.sub(r'http\\S+|www\\S+|https\\S+', '', tweet, flags=re.MULTILINE)\n",
    "    #tokenize\n",
    "    tokens = tweet_tokenizer.tokenize(tweet)\n",
    "    #lemmatize\n",
    "    lemmatized_tokens = [lemmatizer.lemmatize(token) for token in tokens]\n",
    "    return lemmatized_tokens"
   ]
  },
  {
   "cell_type": "code",
   "execution_count": 4,
   "metadata": {},
   "outputs": [
    {
     "output_type": "stream",
     "name": "stdout",
     "text": [
      "True\n"
     ]
    }
   ],
   "source": [
    "#Load pre-trained model - no need to retrain it again\n",
    "model_filename = 'fitted_lsvc_model_24_Jan_2021_22_01.pickle'\n",
    "stored_model = None\n",
    "\n",
    "with open(model_filename, 'rb') as modelFile:\n",
    "    stored_model = pickle.load(modelFile)\n",
    "\n",
    "print(stored_model != None)"
   ]
  },
  {
   "cell_type": "code",
   "execution_count": 20,
   "metadata": {},
   "outputs": [],
   "source": [
    "# Get some new Tweets that the Classifier has never seen before and get predictions\n",
    "\n",
    "new_tweet1 =  '📢CALLING ALL EDUCATORS📢We are doing a FREE, LIVE, and VIRTUAL 1-hour Open House for K-12 educators! Join us as we discuss our new virtual learning lesson platform &amp; explore how to use them in your virtual (or in-person!) classroom! Register today📚🌍✏️ https://t.co/HyluWTM7I5'\n",
    "\n",
    "new_tweet2 = 'New blog post from ERS partner @RosenbergDavidA!  Hybrid learning is likely to remain a part of our K-12 ecosystem for some time to come. Here\\'s how to improve your hybrid model: https://t.co/40o4qFwe9O #HybridLearning #TeacherPD #EdAdmin @LearningForward'\n",
    "\n",
    "new_tweet3 = 'This is silly. Should metro districts use this model to prevent spread? Oh wait we can’t because our schools are overcrowded and underfunded. Groups of 11-20 could never happen. 6ft of distance?!'\n",
    "\n",
    "new_tweet4 = '@Xfinity Nothing to look into.  Just for the love of all things holy fix this crap.  People have to work, remotely teach, and remote learn.  You charge way too much as is for spotty service.  My ex is stable, my internet shouldn\\'t be'\n",
    "\n",
    "new_tweet5 = '@BWheatleySJUSD @GavinNewsom @SanJoseUnified Yes and I recently moved one of them to private because they weren’t doing well with remote learning. My youngest is thriving with in person instruction and there have been no outbreaks. I’ve been very disappointed in SJUSDs explanations and delays, hope  K-12 goes back in Feb'\n",
    "\n",
    "\n",
    "new_data = {'content':  [new_tweet1, new_tweet2, new_tweet3, new_tweet4, new_tweet5] }\n",
    "new_data_df = pd.DataFrame.from_dict(new_data)"
   ]
  },
  {
   "cell_type": "code",
   "execution_count": 21,
   "metadata": {},
   "outputs": [],
   "source": [
    "new_predictions = stored_model.predict(new_data_df['content'])"
   ]
  },
  {
   "cell_type": "code",
   "execution_count": 22,
   "metadata": {},
   "outputs": [
    {
     "output_type": "stream",
     "name": "stdout",
     "text": [
      "positive\npositive\nneutral\nnegative\nnegative\n"
     ]
    }
   ],
   "source": [
    "for pred in new_predictions:\n",
    "    print(pred)"
   ]
  },
  {
   "cell_type": "code",
   "execution_count": null,
   "metadata": {},
   "outputs": [],
   "source": []
  }
 ]
}