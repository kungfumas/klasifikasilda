{
 "metadata": {
  "language_info": {
   "codemirror_mode": {
    "name": "ipython",
    "version": 3
   },
   "file_extension": ".py",
   "mimetype": "text/x-python",
   "name": "python",
   "nbconvert_exporter": "python",
   "pygments_lexer": "ipython3",
   "version": "3.6.9-final"
  },
  "orig_nbformat": 2,
  "kernelspec": {
   "name": "Python 3.6.9 64-bit ('flatiron': conda)",
   "display_name": "Python 3.6.9 64-bit ('flatiron': conda)",
   "metadata": {
    "interpreter": {
     "hash": "4535bfad872b0023e1fa85bd7b3c83a64ea39ab51ed0133218ea0a816c02d554"
    }
   }
  }
 },
 "nbformat": 4,
 "nbformat_minor": 2,
 "cells": [
  {
   "cell_type": "code",
   "execution_count": 139,
   "metadata": {},
   "outputs": [],
   "source": [
    "import pandas as pd\n",
    "import random\n",
    "\n",
    "import string \n",
    "import re\n",
    "import wordcloud\n",
    "from PIL import Image\n",
    "from os import path\n",
    "\n",
    "import nltk\n",
    "from nltk.corpus import stopwords\n",
    "from nltk import word_tokenize, FreqDist\n",
    "from nltk.tokenize import TweetTokenizer\n",
    "from nltk.stem import WordNetLemmatizer\n",
    "\n",
    "from sklearn.feature_extraction.text import CountVectorizer\n",
    "from sklearn.decomposition import LatentDirichletAllocation\n"
   ]
  },
  {
   "cell_type": "code",
   "execution_count": 215,
   "metadata": {},
   "outputs": [],
   "source": [
    "eng_stopwords_and_punct = stopwords.words('english') + list(string.punctuation) + ['“','”', \"''\", '\"\"', '...', '``', '—', '->', '’ ’']\n",
    "\n",
    "# TweetTokenizer will put all text in the tweet to lowercase, strip out usernames/handles and reduce reated chars in words\n",
    "tweet_tokenizer = TweetTokenizer(preserve_case=False, strip_handles=True, reduce_len=True) \n",
    "\n",
    "lemmatizer = WordNetLemmatizer()\n",
    "\n",
    "desired_num_topics = 5\n",
    "\n",
    "\n",
    "def clean_tokenize_lemmatize_tweet(tweet):\n",
    "    ''' \n",
    "    Apply text cleaning, tokenization then lemmatization on the given tweet \n",
    "    '''\n",
    "    #remove urls\n",
    "    tweet = re.sub(r'http\\S+|www\\S+|https\\S+', '', tweet, flags=re.MULTILINE)\n",
    "    #remove RT \n",
    "    tweet = re.sub(r'^RT\\s+', '', tweet)\n",
    "    #remove the # symbol\n",
    "    tweet = re.sub('#', '', tweet)\n",
    "    #remove words containing numbers\n",
    "    tweet = re.sub(r'\\w*\\d\\w*', '', tweet)\n",
    "    #tokenize\n",
    "    tokens = tweet_tokenizer.tokenize(tweet)\n",
    "    # remove stopwords and punctuation\n",
    "    tokens = [token for token in tokens if token not in eng_stopwords_and_punct]\n",
    "    #lemmatize\n",
    "    lemmatized_tokens = [lemmatizer.lemmatize(token) for token in tokens]\n",
    "    return lemmatized_tokens\n",
    "\n",
    "def split_content_by_sentiment(region_df):\n",
    "    pos = region_df[region_df['sentiment'] == 'positive']['content']\n",
    "    neg = region_df[region_df['sentiment'] == 'negative']['content']\n",
    "    neu = region_df[region_df['sentiment'] == 'neutral']['content']\n",
    "    return [pos, neg, neu]\n",
    "\n",
    "# show top words per topic\n",
    "def show_top_words_per_topic(topcount, fitted_lda, count_vectorizer):\n",
    "    for index, topic in enumerate(fitted_lda.components_):\n",
    "        print(f'THE TOP {topcount} WORDS FOR TOPIC #{index}')\n",
    "        print([count_vectorizer.get_feature_names()[i] for i in topic.argsort()[-topcount:]])\n",
    "        print('\\n')"
   ]
  },
  {
   "cell_type": "code",
   "execution_count": 216,
   "metadata": {},
   "outputs": [],
   "source": [
    "#vetted_usa_tweets = pd.read_csv('../data/vetted_usa_tweets.csv')\n",
    "northeast_tweets = vetted_usa_tweets[vetted_usa_tweets['region'] == 'Northeast']\n",
    "southeast_tweets = vetted_usa_tweets[vetted_usa_tweets['region'] == 'Southeast']\n",
    "southwest_tweets = vetted_usa_tweets[vetted_usa_tweets['region'] == 'Southwest']\n",
    "west_tweets = vetted_usa_tweets[vetted_usa_tweets['region'] == 'West']\n",
    "midwest_tweets = vetted_usa_tweets[vetted_usa_tweets['region'] == 'Midwest']\n",
    "general_usa_tweets = vetted_usa_tweets[vetted_usa_tweets['region'] == 'General USA']"
   ]
  },
  {
   "cell_type": "code",
   "execution_count": 202,
   "metadata": {},
   "outputs": [],
   "source": [
    "ne_sentiment_series = split_content_by_sentiment(northeast_tweets)\n",
    "se_sentiment_series = split_content_by_sentiment(southeast_tweets)\n",
    "sw_sentiment_series = split_content_by_sentiment(southwest_tweets)\n",
    "w_sentiment_series = split_content_by_sentiment(west_tweets)\n",
    "mw_sentiment_series = split_content_by_sentiment(midwest_tweets)\n",
    "gen_us_sentiment_series = split_content_by_sentiment(general_usa_tweets)"
   ]
  },
  {
   "cell_type": "markdown",
   "metadata": {},
   "source": [
    "Before performing the topic modeling, I'll need to clean this text. \n",
    "With the text classifier to detect sentiment, punctuation and capitalization could actually be useful to the classifer.\n",
    "In topic modeling they are not, so I'm going to the following text processing before I apply LDA.\n",
    "\n",
    "Text Cleaning\n",
    "* Change to lowercase  (TweetTokenizer handles this)\n",
    "* Remove RT and # (will need a regex)\n",
    "* Remove urls (will need a regex)\n",
    "* Remove stopwords and punctuation ()\n",
    "* Peform lemmatization (after all other cleaning applied, apply lemmatization)\n"
   ]
  },
  {
   "cell_type": "code",
   "execution_count": 143,
   "metadata": {},
   "outputs": [],
   "source": [
    "\n"
   ]
  },
  {
   "cell_type": "code",
   "execution_count": 236,
   "metadata": {
    "tags": [
     "outputPrepend"
    ]
   },
   "outputs": [
    {
     "output_type": "stream",
     "name": "stdout",
     "text": [
      "8, 'get online teaching': 489, 'hmu anytime need': 561, 'study hmu anytime need': 1251, 'hmu anytime need help': 562, 'online school': 854, 'school online': 1119, 'homework due': 582, 'email com': 367, 'homework due essay': 583, 'due dm': 317, 'dissertation pay': 277, 'research pay': 1103, 'pay discussion': 933, 'discussion pay': 271, 'class ..': 154, 'essay pay homework': 396, 'due essay due': 319, 'essay due dm': 382, 'english pay dissertation': 376, 'pay dissertation pay': 936, 'dissertation pay research': 278, 'pay research pay': 990, 'pay discussion pay': 934, 'due essay due dm': 320, 'pay essay pay homework': 948, 'essay pay homework pay': 397, 'english pay dissertation pay': 377, 'pay dissertation pay research': 937, 'dissertation pay research pay': 279, 'would affect': 1384, 'took online': 1327, '😭 😭': 1468, 'took online class': 1328, '😭 😭 😭': 1469, 'one class': 808, 'pay write': 1001, 'pay philosophy': 978, 'philosophy pay': 1015, 'someone pay write': 1169, 'pay write pay': 1002, 'history pay philosophy': 552, 'pay philosophy pay': 979, 'philosophy pay psychology': 1016, 'psychology pay english': 1059, 'research pay paper': 1104, 'due pay discussion': 330, 'online class dm': 816, 'pay someone pay write': 994, 'someone pay write pay': 1170, 'pay history pay philosophy': 953, 'history pay philosophy pay': 553, 'pay philosophy pay psychology': 980, 'philosophy pay psychology pay': 1017, 'pay psychology pay english': 986, 'psychology pay english pay': 1060, 'pay research pay paper': 991, 'research pay paper due': 1105, 'paper due pay discussion': 886, 'due pay discussion pay': 331, 'pay online class dm': 971, 'first class': 438, 'go online': 498, 'online zoom': 859, 'zoom class': 1414, 'class teacher': 185, 'online zoom class': 860, 'zoom class teacher': 1415, 'online zoom class teacher': 861, 'shot killed': 1155, \"daughter's online\": 252, 'police say': 1030, \"daughter's online class\": 253, 'hmu write': 566, 'write research': 1397, 'due paper': 326, 'write case': 1390, 'study online': 1252, 'class philosophy': 175, 'philosophy english': 1012, 'english class': 372, 'class literature': 165, 'literature math': 728, 'math class': 760, '.. pay': 0, 'statistic whatsapp': 1212, 'hmu write research': 567, 'write research paper': 1398, 'research paper due': 1094, 'paper due essay': 883, 'essay due paper': 387, 'due paper pay': 327, 'someone write case': 1172, 'write case study': 1391, 'case study online': 132, 'study online class': 1253, 'online class philosophy': 821, 'class philosophy english': 176, 'philosophy english class': 1013, 'english class literature': 373, 'class literature math': 166, 'literature math class': 729, 'math class ..': 761, 'class .. pay': 155, '.. pay assignment': 1, 'assignment pay economics': 59, 'pay statistic whatsapp': 999, 'hmu write research paper': 568, 'write research paper due': 1399, 'research paper due essay': 1095, 'paper due essay due': 884, 'due essay due paper': 321, 'essay due paper pay': 388, 'due paper pay someone': 328, 'pay someone write case': 996, 'someone write case study': 1173, 'write case study online': 1392, 'case study online class': 133, 'study online class philosophy': 1254, 'online class philosophy english': 822, 'class philosophy english class': 177, 'philosophy english class literature': 1014, 'english class literature math': 374, 'class literature math class': 167, 'literature math class ..': 730, 'math class .. pay': 762, 'class .. pay assignment': 156, '.. pay assignment pay': 2, 'pay assignment pay economics': 919, 'assignment pay economics pay': 60, 'economics pay statistic whatsapp': 349, \"florida child's\": 447, \"child's mother\": 148, 'mother shot': 777, 'killed online': 646, 'class via': 188, \"florida child's mother\": 448, \"child's mother shot\": 149, 'mother shot killed': 778, 'shot killed online': 1158, 'killed online zoom': 647, \"florida child's mother shot\": 449, \"child's mother shot killed\": 150, 'mother shot killed online': 780, 'shot killed online zoom': 1159, 'killed online zoom class': 648, 'let academic': 718, 'academic stress': 3, 'stress help': 1219, 'help hmu': 535, 'hmu online': 563, 'assignment research': 65, 'history psychology': 554, 'psychology history': 1052, 'let academic stress': 719, 'academic stress help': 4, 'stress help hmu': 1220, 'help hmu online': 536, 'hmu online class': 564, 'class assignment research': 159, 'assignment research paper': 66, 'pay history psychology': 954, 'history psychology history': 556, 'psychology history psychology': 1053, 'history psychology dm': 555, 'let academic stress help': 720, 'academic stress help hmu': 5, 'stress help hmu online': 1221, 'help hmu online class': 537, 'hmu online class assignment': 565, 'online class assignment research': 813, 'class assignment research paper': 160, 'assignment research paper term': 67, 'due pay history psychology': 333, 'pay history psychology history': 955, 'history psychology history psychology': 557, 'psychology history psychology dm': 1054, 'academic writing': 6, 'writing service': 1400, 'academic writing service': 7, 'thesis statistic': 1314, 'statistic geology': 1206, 'geology astronomy': 477, 'astronomy chemistry': 68, 'chemistry dm': 134, 'thesis statistic geology': 1315, 'statistic geology astronomy': 1207, 'geology astronomy chemistry': 478, 'astronomy chemistry dm': 69, 'thesis statistic geology astronomy': 1316, 'statistic geology astronomy chemistry': 1208, 'geology astronomy chemistry dm': 479, 'grade assignment': 508, 'homework assignment': 579, 'assignment discussion': 46, 'psychology math': 1055, 'math thesis': 767, 'grade assignment homework': 509, 'assignment homework assignment': 50, 'homework assignment discussion': 580, 'assignment discussion online': 47, 'history psychology math': 558, 'psychology math thesis': 1056, 'math thesis statistic': 768, 'grade assignment homework assignment': 510, 'assignment homework assignment discussion': 51, 'homework assignment discussion online': 581, 'assignment discussion online class': 48, 'pay history psychology math': 956, 'history psychology math thesis': 559, 'psychology math thesis statistic': 1057, 'teacher going': 1271, 'going lot': 502, \"ex daughter's\": 409, \"killed ex daughter's\": 641, \"ex daughter's online\": 410, \"woman killed ex daughter's\": 1376, \"killed ex daughter's online\": 642, \"ex daughter's online class\": 411, 'class supposed': 184, '’ get': 1425, 'teacher never': 1274, 'lose year': 740, 'teacher watch': 1288, 'class teacher watch': 186, 'zoom class teacher watch': 1416, 'fall class': 426, 'algebra calculus': 19, 'calculus statistic': 120, 'statistic biology': 1201, 'biology essay': 96, 'due assignment': 314, 'assignment online': 55, 'algebra calculus statistic': 20, 'calculus statistic biology': 121, 'statistic biology essay': 1202, 'biology essay due': 97, 'essay due assignment': 380, 'due assignment online': 315, 'assignment online class': 56, 'algebra calculus statistic biology': 21, 'calculus statistic biology essay': 122, 'statistic biology essay due': 1203, 'biology essay due assignment': 98, 'essay due assignment online': 381, 'due assignment online class': 316, 'within budget': 1372, 'florida girl': 450, 'girl ’': 493, '’ mother': 1443, 'killed first': 643, 'day online': 256, 'watch police': 1356, 'florida girl ’': 451, 'girl ’ mother': 494, '’ mother shot': 1444, 'shot killed first': 1156, 'killed first day': 644, 'first day online': 442, 'day online class': 257, 'online class teacher': 826, 'teacher watch police': 1289, 'watch police say': 1357, 'florida girl ’ mother': 452, 'girl ’ mother shot': 495, '’ mother shot killed': 1445, 'mother shot killed first': 779, 'shot killed first day': 1157, 'killed first day online': 645, 'first day online class': 443, 'day online class teacher': 258, 'online class teacher watch': 827, 'class teacher watch police': 187, 'teacher watch police say': 1290, 'hate middle': 524, 'especially online': 378, 'online learning': 843, 'u grade': 1339, 'grade history': 511, 'history computer': 548, 'computer science': 209, 'science data': 1132, 'data base': 245, 'base business': 84, 'law algebra': 667, 'algebra statistic': 22, 'statistic agriculture': 1198, 'agriculture essay': 15, 'online course': 828, 'course research': 219, 'thesis calculus': 1311, 'calculus geometry': 117, 'geometry homework': 480, 'homework place': 593, 'dm u grade': 303, 'u grade history': 1340, 'grade history computer': 512, 'history computer science': 549, 'computer science data': 210, 'science data base': 1133, 'data base business': 246, 'base business law': 85, 'business law algebra': 103, 'law algebra statistic': 668, 'algebra statistic agriculture': 23, 'statistic agriculture essay': 1199, 'agriculture essay pay': 16, 'pay online course': 973, 'online course research': 829, 'course research paper': 220, 'research paper thesis': 1101, 'paper thesis calculus': 900, 'thesis calculus geometry': 1312, 'calculus geometry homework': 118, 'geometry homework place': 483, 'homework place order': 594, 'dm u grade history': 304, 'u grade history computer': 1341, 'grade history computer science': 513, 'history computer science data': 550, 'computer science data base': 211, 'science data base business': 1134, 'data base business law': 247, 'base business law algebra': 86, 'business law algebra statistic': 104, 'law algebra statistic agriculture': 669, 'algebra statistic agriculture essay': 24, 'statistic agriculture essay pay': 1200, 'agriculture essay pay online': 17, 'essay pay online course': 399, 'pay online course research': 974, 'online course research paper': 830, 'course research paper thesis': 222, 'research paper thesis calculus': 1102, 'paper thesis calculus geometry': 901, 'thesis calculus geometry homework': 1313, 'calculus geometry homework place': 119, 'geometry homework place order': 484, 'course material': 216, 'expensive course': 415, 'course online': 217, \"i'm teaching\": 604, 'teach online': 1269, 'project marketing': 1042, 'marketing physic': 753, 'physic calculus': 1018, 'math algebra calculus': 758, 'project marketing physic': 1043, 'marketing physic calculus': 754, 'physic calculus chemistry': 1019, 'math algebra calculus statistic': 759, 'project marketing physic calculus': 1044, 'marketing physic calculus chemistry': 755, 'law math': 675, 'biology nursing': 99, 'nursing essay': 801, 'class course': 161, 'paper dissertation': 879, 'dissertation project': 280, 'chemistry geometry': 136, 'business law math': 107, 'law math algebra': 676, 'statistic biology nursing': 1204, 'biology nursing essay': 100, 'nursing essay due': 802, 'online class course': 814, 'class course research': 162, 'research paper dissertation': 1092, 'paper dissertation project': 880, 'dissertation project marketing': 281, 'calculus chemistry geometry': 115, 'chemistry geometry homework': 137, 'geometry homework pay': 481, 'business law math algebra': 108, 'law math algebra calculus': 677, 'calculus statistic biology nursing': 123, 'statistic biology nursing essay': 1205, 'biology nursing essay due': 101, 'nursing essay due assignment': 803, 'assignment online class course': 57, 'online class course research': 815, 'class course research paper': 163, 'course research paper dissertation': 221, 'research paper dissertation project': 1093, 'paper dissertation project marketing': 881, 'dissertation project marketing physic': 282, 'physic calculus chemistry geometry': 1020, 'calculus chemistry geometry homework': 116, 'chemistry geometry homework pay': 138, 'geometry homework pay someone': 482, 'homework pay someone write': 592, \"i'm bad\": 601, 'couple week': 215, 'fall semester': 427, 'start online': 1190, 'material online': 756, 'online much': 850, 'bad ’': 83, 'know much': 650, 'much ’': 781, 'see online': 1139, 'know much ’': 651, \"i've never\": 605, 'online fall': 835, 'right thing': 1106, 'course online fall': 218, 'big education': 90, 'education ape': 353, 'ape online': 40, 'learning fails': 688, 'fails low-income': 423, 'low-income student': 743, 'student amid': 1225, 'amid covid': 29, 'covid los': 228, 'los angeles': 738, 'angeles time': 32, 'big education ape': 91, 'education ape online': 354, 'ape online learning': 41, 'online learning fails': 845, 'learning fails low-income': 689, 'fails low-income student': 424, 'low-income student amid': 744, 'student amid covid': 1226, 'amid covid los': 30, 'covid los angeles': 229, 'los angeles time': 739, 'big education ape online': 92, 'education ape online learning': 355, 'ape online learning fails': 42, 'online learning fails low-income': 846, 'learning fails low-income student': 690, 'fails low-income student amid': 425, 'low-income student amid covid': 745, 'student amid covid los': 1227, 'amid covid los angeles': 31, 'covid los angeles time': 230, 'child color': 142, 'learning cheat': 684, 'time survey': 1323, 'survey find': 1257, 'online learning cheat': 844, 'time survey find': 1324, 'inequity threaten': 614, 'threaten exacerbate': 1320, 'exacerbate wide': 412, 'wide persistent': 1369, 'persistent disparity': 1008, 'disparity public': 272, 'public education': 1061, 'student color': 1228, 'color low-income': 195, 'low-income family': 742, 'inequity threaten exacerbate': 615, 'threaten exacerbate wide': 1321, 'exacerbate wide persistent': 413, 'wide persistent disparity': 1370, 'persistent disparity public': 1009, 'disparity public education': 273, 'student color low-income': 1229, 'color low-income family': 196, 'inequity threaten exacerbate wide': 616, 'threaten exacerbate wide persistent': 1322, 'exacerbate wide persistent disparity': 414, 'wide persistent disparity public': 1371, 'persistent disparity public education': 1010, 'student color low-income family': 1230, 'going online': 503, 'kid mental': 631, 'health struggle': 529, 'struggle online': 1222, \"school here's\": 1115, \"here's teacher\": 541, 'teacher planning': 1279, 'planning ahead': 1025, 'ahead via': 18, 'kid mental health': 632, 'mental health struggle': 773, 'health struggle online': 530, 'struggle online school': 1223, \"online school here's\": 855, \"school here's teacher\": 1116, \"here's teacher planning\": 542, 'teacher planning ahead': 1280, 'planning ahead via': 1026, 'kid mental health struggle': 633, 'mental health struggle online': 774, 'health struggle online school': 531, \"struggle online school here's\": 1224, \"online school here's teacher\": 856, \"school here's teacher planning\": 1117, \"here's teacher planning ahead\": 543, 'teacher planning ahead via': 1281, 'online education': 834, 'class semester': 181, 'semester online': 1142, 'education system': 364, 'semester online ’': 1144, 'north paulding': 796, 'paulding high': 912, 'covid case': 227, 'north paulding high': 797, 'education online': 363, 'education teaching': 365, 'receive education': 1086, 'online covid': 831, 'parent want': 903, 'kid family': 625, 'everything online': 405, 'young child': 1413, 'college student': 194, 'student struggling': 1245, 'went online': 1367, 'higher education': 545, 'stay home': 1213, 'open school': 867, 'opening school': 868, '’ little': 1439, 'school going': 1114, 'putting together': 1066, 'anyone want': 34, 'take online': 1266, 'upcoming semester': 1345, 'online semester': 857, 'online fall semester': 836, 'first semester': 445, 'online last': 841, 'last semester': 660, 'online last semester': 842, 'semester ’': 1146, 'teacher feel': 1270, 'take semester': 1268, 'next semester': 786, 'online least': 849, 'worst part': 1383, '🤷 🏻': 1470, '🏻 \\u200d': 1467, '🤷 🏻 \\u200d': 1471, \"can't expect\": 127, 'college kid': 192, 'online class semester': 825, 'semester college': 1141, 'online 😭': 863, 'school trying': 1129, 'teacher limited': 1273, 'work online': 1379, 'class start': 182, 'another semester': 33, 'sad ’': 1107, 'semester online learning': 1143, 'would online': 1388, 'still teaching': 1214, 'online instruction': 840, 'semester start': 1145, 'year ago': 1403, 'teacher parent': 1278, 'going get': 501, '’ going get': 1429, 'online bad': 809, 'online option': 851, 'take responsibility': 1267, 'difficult online': 260, '’ gonna': 1432, 'teaching online': 1297, 'teacher teaching': 1287, 'tuition since': 1337, 'ask dyslexic': 43, 'dyslexic student': 339, 'student read': 1242, 'read aloud': 1068, 'aloud front': 25, 'front peer': 465, 'peer even': 1004, 'even online': 403, 'make hate': 749, 'hate reading': 525, 'reading forever': 1077, 'forever oral': 456, 'oral reading': 870, 'reading come': 1071, 'come hard': 198, 'hard reading': 518, 'reading dyslexia': 1074, 'dyslexia classroom': 336, 'classroom parenting': 190, 'parenting teaching': 904, 'ask dyslexic student': 44, 'dyslexic student read': 340, 'student read aloud': 1243, 'read aloud front': 1069, 'aloud front peer': 26, 'front peer even': 466, 'peer even online': 1005, 'make hate reading': 750, 'hate reading forever': 526, 'reading forever oral': 1078, 'forever oral reading': 457, 'oral reading come': 871, 'reading come hard': 1072, 'come hard reading': 199, 'hard reading dyslexia': 519, 'reading dyslexia classroom': 1075, 'dyslexia classroom parenting': 337, 'classroom parenting teaching': 191, 'ask dyslexic student read': 45, 'dyslexic student read aloud': 341, 'student read aloud front': 1244, 'read aloud front peer': 1070, 'aloud front peer even': 27, 'front peer even online': 467, 'make hate reading forever': 751, 'hate reading forever oral': 527, 'reading forever oral reading': 1079, 'forever oral reading come': 458, 'oral reading come hard': 872, 'reading come hard reading': 1073, 'come hard reading dyslexia': 200, 'hard reading dyslexia classroom': 520, 'reading dyslexia classroom parenting': 1076, 'dyslexia classroom parenting teaching': 338, 'emergency remote': 368, 'remote teaching': 1088, 'emergency remote teaching': 369, 'remote teaching online': 1089, 'emergency remote teaching online': 370, 'online pandemic': 852, 'teaching online pandemic': 1298, 'teaching student': 1299, 'dispute lausd': 274, 'lausd teacher': 664, 'teacher online': 1275, 'keep parent': 620, 'parent limbo': 902, 'dispute lausd teacher': 275, 'lausd teacher online': 665, 'teacher online learning': 1276, 'online learning keep': 847, 'learning keep parent': 697, 'keep parent limbo': 621, 'dispute lausd teacher online': 276, 'lausd teacher online learning': 666, 'teacher online learning keep': 1277, 'online learning keep parent': 848, 'learning keep parent limbo': 698, 'two week': 1338, 'still teaching online': 1215, 'online parent': 853, 'internet connection': 619, 'college professor': 193, 'office hour': 807, 'work teaching': 1380, 'stop paying': 1217, 'paying teacher': 1003, 'stop paying teacher': 1218, '’ teaching': 1457, 'student online': 1235, 'teaching entirely': 1293, 'forgetting second': 459, 'second plan': 1136, 'plan far': 1022, 'far dangerous': 428, 'dangerous potentially': 242, 'potentially disastrous': 1032, 'disastrous teaching': 264, 'online home': 837, 'home part': 575, 'part fiscally': 908, 'fiscally conservative': 446, 'forgetting second plan': 460, 'second plan far': 1137, 'plan far dangerous': 1023, 'far dangerous potentially': 429, 'dangerous potentially disastrous': 243, 'potentially disastrous teaching': 1033, 'disastrous teaching student': 265, 'teaching student online': 1300, 'student online home': 1236, 'online home part': 838, 'home part fiscally': 576, 'part fiscally conservative': 909, 'forgetting second plan far': 461, 'second plan far dangerous': 1138, 'plan far dangerous potentially': 1024, 'far dangerous potentially disastrous': 430, 'dangerous potentially disastrous teaching': 244, 'potentially disastrous teaching student': 1034, 'disastrous teaching student online': 266, 'teaching student online home': 1301, 'student online home part': 1237, 'online home part fiscally': 839, 'home part fiscally conservative': 577, 'virtual learning': 1350, 'virtual classroom': 1348, 'reading virtual': 1080, 'classroom hard': 189, 'reading virtual classroom': 1081, 'virtual classroom hard': 1349, 'reading virtual classroom hard': 1082}\n"
     ]
    }
   ],
   "source": [
    "cv = CountVectorizer(max_df=0.95, min_df=2, tokenizer=clean_tokenize_lemmatize_tweet, ngram_range=(2,4))\n",
    "lda = LatentDirichletAllocation(n_components=7, random_state=42, verbose=1)\n",
    "\n",
    "# Unsupervised learning...no need to do a test/train split here ;)\n",
    "dtm_ne = cv.fit_transform(w_sentiment_series[1])\n",
    "print(cv.vocabulary_)\n"
   ]
  },
  {
   "cell_type": "code",
   "execution_count": 237,
   "metadata": {},
   "outputs": [
    {
     "output_type": "stream",
     "name": "stdout",
     "text": [
      "iteration: 1 of max_iter: 10\n",
      "iteration: 2 of max_iter: 10\n",
      "iteration: 3 of max_iter: 10\n",
      "iteration: 4 of max_iter: 10\n",
      "iteration: 5 of max_iter: 10\n",
      "iteration: 6 of max_iter: 10\n",
      "iteration: 7 of max_iter: 10\n",
      "iteration: 8 of max_iter: 10\n",
      "iteration: 9 of max_iter: 10\n",
      "iteration: 10 of max_iter: 10\n"
     ]
    },
    {
     "output_type": "execute_result",
     "data": {
      "text/plain": [
       "LatentDirichletAllocation(n_components=7, random_state=42, verbose=1)"
      ]
     },
     "metadata": {},
     "execution_count": 237
    }
   ],
   "source": [
    "# This might take awhile if you are dealing with a large amount of documents!\n",
    "lda.fit(dtm_ne)"
   ]
  },
  {
   "cell_type": "code",
   "execution_count": 238,
   "metadata": {},
   "outputs": [
    {
     "output_type": "stream",
     "name": "stdout",
     "text": [
      "THE TOP 25 WORDS FOR TOPIC #0\n['accounting pay economics pay', 'assignment pay paper due', 'assignment pay paper', 'pay assignment pay paper', 'pay accounting pay', 'pay project', 'class online', 'essay due', 'pay essay pay', 'paper due', 'pay online', 'pay assignment', 'pay online class', 'pay assignment pay', 'research paper pay', 'paper pay', 'assignment pay', 'essay pay', 'pay online class pay', 'due pay', 'research paper', 'class pay', 'online class pay', 'pay essay', 'online class']\n\n\nTHE TOP 25 WORDS FOR TOPIC #1\n['pay business', 'essay pay', 'business law', 'school year', 'kid school', 'pay business law', 'teaching online', 'assignment homework', 'online distance', \"i've never\", 'history psychology', '’ going', 'get sick', 'last semester', 'online class assignment', 'class assignment', 'go back', 'research paper', 'term paper', 'essay due', 'remote learning', 'first day', 'high school', 'distance learning', 'online class']\n\n\nTHE TOP 25 WORDS FOR TOPIC #2\n['go school', 'know school', 'distance learning feel', 'learning feel', 'wearing mask', 'left behind', 'face face', 'year old', 'get online', '’ really', 'teaching student', 'distance learning ’', '’ know', 'online instruction', 'online learning', 'fall semester', 'school board', '’ hard', 'kid ’', 'make sense', 'school year', 'school district', 'learning ’', 'online teaching', 'distance learning']\n\n\nTHE TOP 25 WORDS FOR TOPIC #3\n['fundeducation next stimulus', 'fund drastic cut would', 'distance learning ’ make', 'power help please fundeducation', 'power help please', 'power help', 'next stimulus afterschoolworks', 'drastic cut would disastrous', 'please fundeducation next stimulus', 'next stimulus', 'fundeducation next stimulus afterschoolworks', 'please fundeducation next', 'please fundeducation', 'le important fully fund', 'disastrous california', 'disastrous california ’', 'disastrous california ’ student', 'stimulus afterschoolworks', 'distance learning', 'learning ’', 'distance learning ’', 'starting distance learning', 'starting distance', '’ student', '’ make']\n\n\nTHE TOP 25 WORDS FOR TOPIC #4\n['remote teaching', 'english pay', 'homework pay someone pay', 'pay homework pay someone', 'shot killed', 'homework pay someone', 'online zoom class', 'online zoom', 'zoom class', 'essay pay homework', 'public school system', 'school system', 'pay online', 'pay essay', 'pay online class', 'pay someone', 'pay essay pay', 'pay someone pay', 'someone pay', 'essay pay', 'pay homework pay', 'public school', 'pay homework', 'homework pay', 'online class']\n\n\nTHE TOP 25 WORDS FOR TOPIC #5\n['marketing physic calculus', 'marketing physic', 'math algebra calculus', 'math algebra calculus statistic', 'physic calculus', 'teacher staff', 'essay due', 'online school', 'woman killed', 'due assignment online', 'calculus statistic biology', 'statistic biology', 'essay due assignment', 'assignment online', 'due assignment', 'algebra calculus', 'essay due assignment online', 'algebra calculus statistic', 'calculus statistic', 'algebra calculus statistic biology', 'calculus chemistry', 'distance learning', 'math algebra', 'online class', 'teaching online']\n\n\nTHE TOP 25 WORDS FOR TOPIC #6\n['last semester', 'paper pay', 'someone write', 'due essay', 'course research paper', 'course research', 'geometry homework', 'business law', 'essay pay', 'paper due', 'essay pay online', 'paper thesis', 'learning model', 'online course research paper', 'online course research', 'math class', 'pay online course', 'dm u', 'essay due', 'online learning', 'pay online', 'research paper', 'online class', 'online course', 'online education']\n\n\n"
     ]
    }
   ],
   "source": [
    "show_top_words_per_topic(topcount=25, fitted_lda=lda, count_vectorizer=cv)"
   ]
  },
  {
   "cell_type": "code",
   "execution_count": null,
   "metadata": {},
   "outputs": [],
   "source": []
  }
 ]
}