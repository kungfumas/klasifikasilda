{
 "metadata": {
  "language_info": {
   "codemirror_mode": {
    "name": "ipython",
    "version": 3
   },
   "file_extension": ".py",
   "mimetype": "text/x-python",
   "name": "python",
   "nbconvert_exporter": "python",
   "pygments_lexer": "ipython3",
   "version": "3.6.9-final"
  },
  "orig_nbformat": 2,
  "kernelspec": {
   "name": "flatiron",
   "display_name": "flatiron"
  }
 },
 "nbformat": 4,
 "nbformat_minor": 2,
 "cells": [
  {
   "cell_type": "markdown",
   "metadata": {},
   "source": [
    "# Data Cleaning and EDA\n"
   ]
  },
  {
   "cell_type": "code",
   "execution_count": 3,
   "metadata": {},
   "outputs": [],
   "source": [
    "# Import the required libraries\n",
    "import pandas as pd\n",
    "import numpy as np\n",
    "import re\n",
    " "
   ]
  },
  {
   "cell_type": "code",
   "execution_count": 4,
   "metadata": {},
   "outputs": [],
   "source": [
    "\n",
    "#  Functions for Duplicate checks \n",
    "def get_exact_dups(df):\n",
    "    '''\n",
    "    Returns duplicates\n",
    "    '''\n",
    "    dups = df[df.duplicated()]\n",
    "    return dups\n",
    "\n",
    "def get_tweet_dups(df, col_names):\n",
    "    '''\n",
    "    Returns duplicates based on given column name\n",
    "    '''\n",
    "    dups = df[df.duplicated(subset=col_names)]\n",
    "    return dups\n"
   ]
  },
  {
   "cell_type": "code",
   "execution_count": 21,
   "metadata": {},
   "outputs": [
    {
     "output_type": "stream",
     "name": "stdout",
     "text": [
      "(38044, 11)\n<class 'pandas.core.frame.DataFrame'>\nRangeIndex: 38044 entries, 0 to 38043\nData columns (total 11 columns):\n #   Column            Non-Null Count  Dtype \n---  ------            --------------  ----- \n 0   Unnamed: 0        38044 non-null  int64 \n 1   the_id            38044 non-null  int64 \n 2   content           38044 non-null  object\n 3   user_loc          38044 non-null  object\n 4   user_screen_name  38044 non-null  object\n 5   retweet_count     38044 non-null  int64 \n 6   fav_count         38044 non-null  int64 \n 7   created_at        38044 non-null  object\n 8   char_count        38044 non-null  int64 \n 9   sentiment_method  38044 non-null  object\n 10  sentiment         38044 non-null  object\ndtypes: int64(5), object(6)\nmemory usage: 3.2+ MB\nNone\n(348, 11)\n<class 'pandas.core.frame.DataFrame'>\nRangeIndex: 348 entries, 0 to 347\nData columns (total 11 columns):\n #   Column            Non-Null Count  Dtype  \n---  ------            --------------  -----  \n 0   _id               348 non-null    object \n 1   id_str            348 non-null    float64\n 2   content           348 non-null    object \n 3   user_loc          348 non-null    object \n 4   user_screen_name  348 non-null    object \n 5   retweet_count     348 non-null    int64  \n 6   fav_count         348 non-null    int64  \n 7   created_at        348 non-null    object \n 8   sentiment         348 non-null    object \n 9   char_count        348 non-null    int64  \n 10  sentiment_method  348 non-null    object \ndtypes: float64(1), int64(3), object(7)\nmemory usage: 30.0+ KB\nNone\n(130, 11)\n<class 'pandas.core.frame.DataFrame'>\nRangeIndex: 130 entries, 0 to 129\nData columns (total 11 columns):\n #   Column            Non-Null Count  Dtype  \n---  ------            --------------  -----  \n 0   _id               130 non-null    object \n 1   id_str            130 non-null    float64\n 2   content           130 non-null    object \n 3   user_loc          130 non-null    object \n 4   user_screen_name  130 non-null    object \n 5   retweet_count     130 non-null    int64  \n 6   fav_count         130 non-null    int64  \n 7   created_at        130 non-null    object \n 8   char_count        130 non-null    int64  \n 9   sentiment_method  130 non-null    object \n 10  sentiment         130 non-null    object \ndtypes: float64(1), int64(3), object(7)\nmemory usage: 11.3+ KB\nNone\n(193, 11)\n<class 'pandas.core.frame.DataFrame'>\nRangeIndex: 193 entries, 0 to 192\nData columns (total 11 columns):\n #   Column            Non-Null Count  Dtype  \n---  ------            --------------  -----  \n 0   _id               193 non-null    object \n 1   id_str            193 non-null    float64\n 2   content           193 non-null    object \n 3   user_loc          193 non-null    object \n 4   user_screen_name  193 non-null    object \n 5   retweet_count     193 non-null    int64  \n 6   fav_count         193 non-null    int64  \n 7   created_at        193 non-null    object \n 8   char_count        193 non-null    int64  \n 9   sentiment_method  193 non-null    object \n 10  sentiment         193 non-null    object \ndtypes: float64(1), int64(3), object(7)\nmemory usage: 16.7+ KB\nNone\n"
     ]
    }
   ],
   "source": [
    "external_tweets = pd.read_csv('../data/us_only_external_data_tweets_TOOL_labeled.csv')\n",
    "print(external_tweets.shape)\n",
    "print(external_tweets.info())\n",
    "\n",
    "query_humanlabeled_tweets = pd.read_csv('../data/jan_2021_queried_tweets_HUMAN_labeled.csv')\n",
    "print(query_humanlabeled_tweets.shape)\n",
    "print(query_humanlabeled_tweets.info())\n",
    "\n",
    "\n",
    "queried_tweets = pd.read_csv('../data/jan_2021_queried_tweets_TOOL_labeled.csv')\n",
    "print(queried_tweets.shape)\n",
    "print(queried_tweets.info())\n",
    "\n",
    "\n",
    "streamed_tweets = pd.read_csv('../data/jan_2021_streaming_tweets_TOOL_labeled.csv')\n",
    "print(streamed_tweets.shape)\n",
    "print(streamed_tweets.info())\n"
   ]
  },
  {
   "cell_type": "code",
   "execution_count": 23,
   "metadata": {},
   "outputs": [
    {
     "output_type": "display_data",
     "data": {
      "text/plain": "   Unnamed: 0  the_id                                            content  \\\n0           9       9  “Instructional Considerations for the 2020-21 ...   \n1          10      10  With all the uncertainty of what September wil...   \n2          11      11  Check this out on Wakelet - Digital learning a...   \n\n        user_loc user_screen_name  retweet_count  fav_count  \\\n0  Illinois, USA    Erik_Youngman              0          2   \n1  Lyndhurst, NJ      Renee_LoBue              0          0   \n2       Cary, NC      SupriyaVasu              0          0   \n\n            created_at  char_count sentiment_method sentiment  \n0  2020-08-02 00:10:26         276            tools   neutral  \n1  2020-08-01 23:57:31         264            tools  positive  \n2  2020-08-01 23:20:38         133            tools   neutral  ",
      "text/html": "<div>\n<style scoped>\n    .dataframe tbody tr th:only-of-type {\n        vertical-align: middle;\n    }\n\n    .dataframe tbody tr th {\n        vertical-align: top;\n    }\n\n    .dataframe thead th {\n        text-align: right;\n    }\n</style>\n<table border=\"1\" class=\"dataframe\">\n  <thead>\n    <tr style=\"text-align: right;\">\n      <th></th>\n      <th>Unnamed: 0</th>\n      <th>the_id</th>\n      <th>content</th>\n      <th>user_loc</th>\n      <th>user_screen_name</th>\n      <th>retweet_count</th>\n      <th>fav_count</th>\n      <th>created_at</th>\n      <th>char_count</th>\n      <th>sentiment_method</th>\n      <th>sentiment</th>\n    </tr>\n  </thead>\n  <tbody>\n    <tr>\n      <th>0</th>\n      <td>9</td>\n      <td>9</td>\n      <td>“Instructional Considerations for the 2020-21 ...</td>\n      <td>Illinois, USA</td>\n      <td>Erik_Youngman</td>\n      <td>0</td>\n      <td>2</td>\n      <td>2020-08-02 00:10:26</td>\n      <td>276</td>\n      <td>tools</td>\n      <td>neutral</td>\n    </tr>\n    <tr>\n      <th>1</th>\n      <td>10</td>\n      <td>10</td>\n      <td>With all the uncertainty of what September wil...</td>\n      <td>Lyndhurst, NJ</td>\n      <td>Renee_LoBue</td>\n      <td>0</td>\n      <td>0</td>\n      <td>2020-08-01 23:57:31</td>\n      <td>264</td>\n      <td>tools</td>\n      <td>positive</td>\n    </tr>\n    <tr>\n      <th>2</th>\n      <td>11</td>\n      <td>11</td>\n      <td>Check this out on Wakelet - Digital learning a...</td>\n      <td>Cary, NC</td>\n      <td>SupriyaVasu</td>\n      <td>0</td>\n      <td>0</td>\n      <td>2020-08-01 23:20:38</td>\n      <td>133</td>\n      <td>tools</td>\n      <td>neutral</td>\n    </tr>\n  </tbody>\n</table>\n</div>"
     },
     "metadata": {}
    },
    {
     "output_type": "display_data",
     "data": {
      "text/plain": "                        _id        id_str  \\\n0  5ffde71b5e4953000d99dc7c  1.348996e+18   \n1  5ffde71b5e4953000d99dc7d  1.348986e+18   \n2  5ffde71b5e4953000d99dc7e  1.348978e+18   \n\n                                             content           user_loc  \\\n0  These really are critical.\\n2yrs ago I took 9 ...         Texas, USA   \n1  ConnectEd After School Lesson Grades K-2\\nThur...  North Dakota, USA   \n2  Don't forget to register for our FREE Remote a...      New York City   \n\n  user_screen_name  retweet_count  fav_count           created_at sentiment  \\\n0      summers_llm              0          0  2021-01-12 14:11:21   neutral   \n1           ncecnd              0          0  2021-01-12 13:30:04   neutral   \n2        ReadWorks              0          0  2021-01-12 13:01:36   neutral   \n\n   char_count sentiment_method  \n0         213            human  \n1         122            human  \n2         303            human  ",
      "text/html": "<div>\n<style scoped>\n    .dataframe tbody tr th:only-of-type {\n        vertical-align: middle;\n    }\n\n    .dataframe tbody tr th {\n        vertical-align: top;\n    }\n\n    .dataframe thead th {\n        text-align: right;\n    }\n</style>\n<table border=\"1\" class=\"dataframe\">\n  <thead>\n    <tr style=\"text-align: right;\">\n      <th></th>\n      <th>_id</th>\n      <th>id_str</th>\n      <th>content</th>\n      <th>user_loc</th>\n      <th>user_screen_name</th>\n      <th>retweet_count</th>\n      <th>fav_count</th>\n      <th>created_at</th>\n      <th>sentiment</th>\n      <th>char_count</th>\n      <th>sentiment_method</th>\n    </tr>\n  </thead>\n  <tbody>\n    <tr>\n      <th>0</th>\n      <td>5ffde71b5e4953000d99dc7c</td>\n      <td>1.348996e+18</td>\n      <td>These really are critical.\\n2yrs ago I took 9 ...</td>\n      <td>Texas, USA</td>\n      <td>summers_llm</td>\n      <td>0</td>\n      <td>0</td>\n      <td>2021-01-12 14:11:21</td>\n      <td>neutral</td>\n      <td>213</td>\n      <td>human</td>\n    </tr>\n    <tr>\n      <th>1</th>\n      <td>5ffde71b5e4953000d99dc7d</td>\n      <td>1.348986e+18</td>\n      <td>ConnectEd After School Lesson Grades K-2\\nThur...</td>\n      <td>North Dakota, USA</td>\n      <td>ncecnd</td>\n      <td>0</td>\n      <td>0</td>\n      <td>2021-01-12 13:30:04</td>\n      <td>neutral</td>\n      <td>122</td>\n      <td>human</td>\n    </tr>\n    <tr>\n      <th>2</th>\n      <td>5ffde71b5e4953000d99dc7e</td>\n      <td>1.348978e+18</td>\n      <td>Don't forget to register for our FREE Remote a...</td>\n      <td>New York City</td>\n      <td>ReadWorks</td>\n      <td>0</td>\n      <td>0</td>\n      <td>2021-01-12 13:01:36</td>\n      <td>neutral</td>\n      <td>303</td>\n      <td>human</td>\n    </tr>\n  </tbody>\n</table>\n</div>"
     },
     "metadata": {}
    },
    {
     "output_type": "display_data",
     "data": {
      "text/plain": "                        _id        id_str  \\\n0  5ffde71f5e4953000d99dd55  1.348735e+18   \n1  5ffde71f5e4953000d99dd58  1.348704e+18   \n2  5ffde71f5e4953000d99dd5d  1.348672e+18   \n\n                                             content                user_loc  \\\n0  Virtual learning has caused a fair share of fr...               Wisconsin   \n1  Preparing for high school is an exciting time!...  St. Augustine, Florida   \n2  The Nature-based 4K Parent Night for enrollmen...             Newburg, WI   \n\n  user_screen_name  retweet_count  fav_count           created_at  char_count  \\\n0       Edficiency              0          0  2021-01-11 20:55:39         272   \n1            SJCSD              0          0  2021-01-11 18:51:41         221   \n2      RiveredgeNC              0          0  2021-01-11 16:42:40         276   \n\n  sentiment_method sentiment  \n0            tools  positive  \n1            tools  positive  \n2            tools  positive  ",
      "text/html": "<div>\n<style scoped>\n    .dataframe tbody tr th:only-of-type {\n        vertical-align: middle;\n    }\n\n    .dataframe tbody tr th {\n        vertical-align: top;\n    }\n\n    .dataframe thead th {\n        text-align: right;\n    }\n</style>\n<table border=\"1\" class=\"dataframe\">\n  <thead>\n    <tr style=\"text-align: right;\">\n      <th></th>\n      <th>_id</th>\n      <th>id_str</th>\n      <th>content</th>\n      <th>user_loc</th>\n      <th>user_screen_name</th>\n      <th>retweet_count</th>\n      <th>fav_count</th>\n      <th>created_at</th>\n      <th>char_count</th>\n      <th>sentiment_method</th>\n      <th>sentiment</th>\n    </tr>\n  </thead>\n  <tbody>\n    <tr>\n      <th>0</th>\n      <td>5ffde71f5e4953000d99dd55</td>\n      <td>1.348735e+18</td>\n      <td>Virtual learning has caused a fair share of fr...</td>\n      <td>Wisconsin</td>\n      <td>Edficiency</td>\n      <td>0</td>\n      <td>0</td>\n      <td>2021-01-11 20:55:39</td>\n      <td>272</td>\n      <td>tools</td>\n      <td>positive</td>\n    </tr>\n    <tr>\n      <th>1</th>\n      <td>5ffde71f5e4953000d99dd58</td>\n      <td>1.348704e+18</td>\n      <td>Preparing for high school is an exciting time!...</td>\n      <td>St. Augustine, Florida</td>\n      <td>SJCSD</td>\n      <td>0</td>\n      <td>0</td>\n      <td>2021-01-11 18:51:41</td>\n      <td>221</td>\n      <td>tools</td>\n      <td>positive</td>\n    </tr>\n    <tr>\n      <th>2</th>\n      <td>5ffde71f5e4953000d99dd5d</td>\n      <td>1.348672e+18</td>\n      <td>The Nature-based 4K Parent Night for enrollmen...</td>\n      <td>Newburg, WI</td>\n      <td>RiveredgeNC</td>\n      <td>0</td>\n      <td>0</td>\n      <td>2021-01-11 16:42:40</td>\n      <td>276</td>\n      <td>tools</td>\n      <td>positive</td>\n    </tr>\n  </tbody>\n</table>\n</div>"
     },
     "metadata": {}
    },
    {
     "output_type": "display_data",
     "data": {
      "text/plain": "                        _id        id_str  \\\n0  5ffde60d64e25f9f2612592c  1.349056e+18   \n1  5ffdf9c180d443513a191637  1.349077e+18   \n2  5ffdfcbbed845d2d2c79e966  1.349080e+18   \n\n                                             content                 user_loc  \\\n0  If a student is missing class a bunch, their g...                Provo, UT   \n1  @JamesTodaroMD @ConservMama17 I went to proms,...  Mountains of California   \n2  Last weeks blog by @RachelJTeaches provides an...            Arlington, VA   \n\n  user_screen_name  retweet_count  fav_count           created_at  char_count  \\\n0      avatargrace              0          0  2021-01-12 18:10:16         275   \n1     AudreyJeanne              0          0  2021-01-12 19:34:19         308   \n2     intellispark              0          0  2021-01-12 19:47:01         200   \n\n  sentiment_method sentiment  \n0            tools  negative  \n1            tools  positive  \n2            tools  positive  ",
      "text/html": "<div>\n<style scoped>\n    .dataframe tbody tr th:only-of-type {\n        vertical-align: middle;\n    }\n\n    .dataframe tbody tr th {\n        vertical-align: top;\n    }\n\n    .dataframe thead th {\n        text-align: right;\n    }\n</style>\n<table border=\"1\" class=\"dataframe\">\n  <thead>\n    <tr style=\"text-align: right;\">\n      <th></th>\n      <th>_id</th>\n      <th>id_str</th>\n      <th>content</th>\n      <th>user_loc</th>\n      <th>user_screen_name</th>\n      <th>retweet_count</th>\n      <th>fav_count</th>\n      <th>created_at</th>\n      <th>char_count</th>\n      <th>sentiment_method</th>\n      <th>sentiment</th>\n    </tr>\n  </thead>\n  <tbody>\n    <tr>\n      <th>0</th>\n      <td>5ffde60d64e25f9f2612592c</td>\n      <td>1.349056e+18</td>\n      <td>If a student is missing class a bunch, their g...</td>\n      <td>Provo, UT</td>\n      <td>avatargrace</td>\n      <td>0</td>\n      <td>0</td>\n      <td>2021-01-12 18:10:16</td>\n      <td>275</td>\n      <td>tools</td>\n      <td>negative</td>\n    </tr>\n    <tr>\n      <th>1</th>\n      <td>5ffdf9c180d443513a191637</td>\n      <td>1.349077e+18</td>\n      <td>@JamesTodaroMD @ConservMama17 I went to proms,...</td>\n      <td>Mountains of California</td>\n      <td>AudreyJeanne</td>\n      <td>0</td>\n      <td>0</td>\n      <td>2021-01-12 19:34:19</td>\n      <td>308</td>\n      <td>tools</td>\n      <td>positive</td>\n    </tr>\n    <tr>\n      <th>2</th>\n      <td>5ffdfcbbed845d2d2c79e966</td>\n      <td>1.349080e+18</td>\n      <td>Last weeks blog by @RachelJTeaches provides an...</td>\n      <td>Arlington, VA</td>\n      <td>intellispark</td>\n      <td>0</td>\n      <td>0</td>\n      <td>2021-01-12 19:47:01</td>\n      <td>200</td>\n      <td>tools</td>\n      <td>positive</td>\n    </tr>\n  </tbody>\n</table>\n</div>"
     },
     "metadata": {}
    }
   ],
   "source": [
    "display(external_tweets.head(3))\n",
    "display(query_humanlabeled_tweets.head(3))\n",
    "display(queried_tweets.head(3))\n",
    "display(streamed_tweets.head(3))"
   ]
  },
  {
   "cell_type": "code",
   "execution_count": null,
   "metadata": {},
   "outputs": [],
   "source": []
  },
  {
   "cell_type": "markdown",
   "metadata": {},
   "source": [
    "## Data cleaning steps:\n",
    "* __Duplicate check/ Duplicate handling__ \n",
    "\n",
    "* __Null check/Null handling__\n",
    "\n",
    "* __Data type conversion__\n"
   ]
  },
  {
   "cell_type": "code",
   "execution_count": 24,
   "metadata": {},
   "outputs": [
    {
     "output_type": "stream",
     "name": "stdout",
     "text": [
      "Unnamed: 0          0\nthe_id              0\ncontent             0\nuser_loc            0\nuser_screen_name    0\nretweet_count       0\nfav_count           0\ncreated_at          0\nchar_count          0\nsentiment_method    0\nsentiment           0\ndtype: int64\n_id                 0\nid_str              0\ncontent             0\nuser_loc            0\nuser_screen_name    0\nretweet_count       0\nfav_count           0\ncreated_at          0\nchar_count          0\nsentiment_method    0\nsentiment           0\ndtype: int64\n_id                 0\nid_str              0\ncontent             0\nuser_loc            0\nuser_screen_name    0\nretweet_count       0\nfav_count           0\ncreated_at          0\nsentiment           0\nchar_count          0\nsentiment_method    0\ndtype: int64\n_id                 0\nid_str              0\ncontent             0\nuser_loc            0\nuser_screen_name    0\nretweet_count       0\nfav_count           0\ncreated_at          0\nchar_count          0\nsentiment_method    0\nsentiment           0\ndtype: int64\n"
     ]
    }
   ],
   "source": [
    "# Check for any nulls\n",
    "print(external_tweets.isnull().sum())\n",
    "print(queried_tweets.isnull().sum())\n",
    "print(query_humanlabeled_tweets.isnull().sum())\n",
    "print(streamed_tweets.isnull().sum())"
   ]
  },
  {
   "cell_type": "code",
   "execution_count": 28,
   "metadata": {},
   "outputs": [
    {
     "output_type": "stream",
     "name": "stdout",
     "text": [
      "external_tweets \n positive    28169\nneutral      5942\nnegative     3933\nName: sentiment, dtype: int64\n\nqueried_tweets \n positive    98\nneutral     17\nnegative    15\nName: sentiment, dtype: int64\n\nquery_humanlabeled_tweets \n negative    136\nneutral     122\npositive     90\nName: sentiment, dtype: int64\n\nstreamed_tweets \n positive    135\nnegative     35\nneutral      23\nName: sentiment, dtype: int64\n"
     ]
    }
   ],
   "source": [
    "# What are the value counts for the 3 different sentiments?\n",
    "# External_dataset_tweets\n",
    "print('external_tweets \\n', external_tweets['sentiment'].value_counts())\n",
    "print('\\nqueried_tweets \\n', queried_tweets['sentiment'].value_counts())\n",
    "print('\\nquery_humanlabeled_tweets \\n', query_humanlabeled_tweets['sentiment'].value_counts())\n",
    "print('\\nstreamed_tweets \\n', streamed_tweets['sentiment'].value_counts())"
   ]
  },
  {
   "cell_type": "code",
   "execution_count": null,
   "metadata": {},
   "outputs": [],
   "source": []
  },
  {
   "cell_type": "code",
   "execution_count": null,
   "metadata": {},
   "outputs": [],
   "source": []
  },
  {
   "cell_type": "code",
   "execution_count": null,
   "metadata": {},
   "outputs": [],
   "source": []
  }
 ]
}