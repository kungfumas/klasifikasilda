{
 "metadata": {
  "language_info": {
   "codemirror_mode": {
    "name": "ipython",
    "version": 3
   },
   "file_extension": ".py",
   "mimetype": "text/x-python",
   "name": "python",
   "nbconvert_exporter": "python",
   "pygments_lexer": "ipython3",
   "version": "3.6.9-final"
  },
  "orig_nbformat": 2,
  "kernelspec": {
   "name": "flatiron",
   "display_name": "flatiron"
  }
 },
 "nbformat": 4,
 "nbformat_minor": 2,
 "cells": [
  {
   "cell_type": "markdown",
   "metadata": {},
   "source": [
    "# Data Cleaning and EDA\n"
   ]
  },
  {
   "cell_type": "code",
   "execution_count": 6,
   "metadata": {},
   "outputs": [],
   "source": [
    "# Import the required libraries\n",
    "import pandas as pd\n",
    "import numpy as np"
   ]
  },
  {
   "cell_type": "code",
   "execution_count": 10,
   "metadata": {},
   "outputs": [],
   "source": [
    "# Functions for data cleaning\n",
    "\n",
    "#  Functions for Duplicate checks \n",
    "def get_exact_dups(df):\n",
    "    '''\n",
    "    Returns duplicates\n",
    "    '''\n",
    "    dups = df[df.duplicated()]\n",
    "    return dups\n",
    "\n",
    "def get_tweet_dups(df, col_names):\n",
    "    '''\n",
    "    Returns duplicates based on given column name\n",
    "    '''\n",
    "    dups = df[df.duplicated(subset=col_names)]\n",
    "    return dups\n"
   ]
  },
  {
   "cell_type": "code",
   "execution_count": 16,
   "metadata": {},
   "outputs": [
    {
     "output_type": "stream",
     "name": "stdout",
     "text": [
      "(37, 30)\n<class 'pandas.core.frame.DataFrame'>\nRangeIndex: 37 entries, 0 to 36\nData columns (total 30 columns):\n #   Column                     Non-Null Count  Dtype  \n---  ------                     --------------  -----  \n 0   Unnamed: 0                 37 non-null     int64  \n 1   _id                        37 non-null     object \n 2   created_at                 37 non-null     object \n 3   id                         37 non-null     int64  \n 4   id_str                     37 non-null     int64  \n 5   full_text                  37 non-null     object \n 6   truncated                  37 non-null     bool   \n 7   display_text_range         37 non-null     object \n 8   metadata                   37 non-null     object \n 9   source                     37 non-null     object \n 10  in_reply_to_status_id      3 non-null      float64\n 11  in_reply_to_status_id_str  3 non-null      float64\n 12  in_reply_to_user_id        3 non-null      float64\n 13  in_reply_to_user_id_str    3 non-null      float64\n 14  in_reply_to_screen_name    3 non-null      object \n 15  user                       37 non-null     object \n 16  geo                        0 non-null      float64\n 17  coordinates                0 non-null      float64\n 18  place                      1 non-null      object \n 19  contributors               0 non-null      float64\n 20  is_quote_status            37 non-null     bool   \n 21  retweet_count              37 non-null     int64  \n 22  favorite_count             37 non-null     int64  \n 23  favorited                  37 non-null     bool   \n 24  retweeted                  37 non-null     bool   \n 25  lang                       37 non-null     object \n 26  possibly_sensitive         33 non-null     object \n 27  quoted_status_id           1 non-null      float64\n 28  quoted_status_id_str       1 non-null      float64\n 29  quoted_status              1 non-null      object \ndtypes: bool(4), float64(9), int64(5), object(12)\nmemory usage: 7.8+ KB\nNone\n"
     ]
    },
    {
     "output_type": "execute_result",
     "data": {
      "text/plain": [
       "   Unnamed: 0                       _id                      created_at  \\\n",
       "0           0  5ffce1024f712e7d75bd4c33  Mon Jan 11 22:29:34 +0000 2021   \n",
       "1           1  5ffce1024f712e7d75bd4c34  Mon Jan 11 19:05:29 +0000 2021   \n",
       "2           2  5ffce1024f712e7d75bd4c35  Mon Jan 11 06:36:01 +0000 2021   \n",
       "3           3  5ffce1024f712e7d75bd4c36  Mon Jan 11 02:54:43 +0000 2021   \n",
       "4           4  5ffce1024f712e7d75bd4c37  Mon Jan 11 01:52:22 +0000 2021   \n",
       "\n",
       "                    id               id_str  \\\n",
       "0  1348758980785438720  1348758980785438720   \n",
       "1  1348707622778675203  1348707622778675203   \n",
       "2  1348519013186293761  1348519013186293761   \n",
       "3  1348463319045255170  1348463319045255170   \n",
       "4  1348447629479473152  1348447629479473152   \n",
       "\n",
       "                                           full_text  truncated  \\\n",
       "0  @L_D_Washington My district actually already h...      False   \n",
       "1  Interested in learning more about our #K12Onli...      False   \n",
       "2  #Russia #OnlineEducationMarket will be a $ 2.0...      False   \n",
       "3  Attendance is more difficult to track during t...      False   \n",
       "4  Over the weekend we have had 5 new cases of CO...      False   \n",
       "\n",
       "  display_text_range                                           metadata  \\\n",
       "0          [16, 195]  {'iso_language_code': 'en', 'result_type': 're...   \n",
       "1           [0, 190]  {'iso_language_code': 'en', 'result_type': 're...   \n",
       "2           [0, 279]  {'iso_language_code': 'en', 'result_type': 're...   \n",
       "3           [0, 220]  {'iso_language_code': 'en', 'result_type': 're...   \n",
       "4           [0, 266]  {'iso_language_code': 'en', 'result_type': 're...   \n",
       "\n",
       "                                              source  ...  is_quote_status  \\\n",
       "0  <a href=\"https://mobile.twitter.com\" rel=\"nofo...  ...            False   \n",
       "1  <a href=\"https://mobile.twitter.com\" rel=\"nofo...  ...            False   \n",
       "2  <a href=\"https://mobile.twitter.com\" rel=\"nofo...  ...            False   \n",
       "3  <a href=\"https://mobile.twitter.com\" rel=\"nofo...  ...            False   \n",
       "4  <a href=\"http://twitter.com/download/iphone\" r...  ...            False   \n",
       "\n",
       "   retweet_count  favorite_count  favorited retweeted lang  \\\n",
       "0              0               2      False     False   en   \n",
       "1              0               0      False     False   en   \n",
       "2              2               0      False     False   en   \n",
       "3              0               0      False     False   en   \n",
       "4              2               2      False     False   en   \n",
       "\n",
       "   possibly_sensitive  quoted_status_id quoted_status_id_str  quoted_status  \n",
       "0                 NaN               NaN                  NaN            NaN  \n",
       "1               False               NaN                  NaN            NaN  \n",
       "2               False               NaN                  NaN            NaN  \n",
       "3               False               NaN                  NaN            NaN  \n",
       "4               False               NaN                  NaN            NaN  \n",
       "\n",
       "[5 rows x 30 columns]"
      ],
      "text/html": "<div>\n<style scoped>\n    .dataframe tbody tr th:only-of-type {\n        vertical-align: middle;\n    }\n\n    .dataframe tbody tr th {\n        vertical-align: top;\n    }\n\n    .dataframe thead th {\n        text-align: right;\n    }\n</style>\n<table border=\"1\" class=\"dataframe\">\n  <thead>\n    <tr style=\"text-align: right;\">\n      <th></th>\n      <th>Unnamed: 0</th>\n      <th>_id</th>\n      <th>created_at</th>\n      <th>id</th>\n      <th>id_str</th>\n      <th>full_text</th>\n      <th>truncated</th>\n      <th>display_text_range</th>\n      <th>metadata</th>\n      <th>source</th>\n      <th>...</th>\n      <th>is_quote_status</th>\n      <th>retweet_count</th>\n      <th>favorite_count</th>\n      <th>favorited</th>\n      <th>retweeted</th>\n      <th>lang</th>\n      <th>possibly_sensitive</th>\n      <th>quoted_status_id</th>\n      <th>quoted_status_id_str</th>\n      <th>quoted_status</th>\n    </tr>\n  </thead>\n  <tbody>\n    <tr>\n      <th>0</th>\n      <td>0</td>\n      <td>5ffce1024f712e7d75bd4c33</td>\n      <td>Mon Jan 11 22:29:34 +0000 2021</td>\n      <td>1348758980785438720</td>\n      <td>1348758980785438720</td>\n      <td>@L_D_Washington My district actually already h...</td>\n      <td>False</td>\n      <td>[16, 195]</td>\n      <td>{'iso_language_code': 'en', 'result_type': 're...</td>\n      <td>&lt;a href=\"https://mobile.twitter.com\" rel=\"nofo...</td>\n      <td>...</td>\n      <td>False</td>\n      <td>0</td>\n      <td>2</td>\n      <td>False</td>\n      <td>False</td>\n      <td>en</td>\n      <td>NaN</td>\n      <td>NaN</td>\n      <td>NaN</td>\n      <td>NaN</td>\n    </tr>\n    <tr>\n      <th>1</th>\n      <td>1</td>\n      <td>5ffce1024f712e7d75bd4c34</td>\n      <td>Mon Jan 11 19:05:29 +0000 2021</td>\n      <td>1348707622778675203</td>\n      <td>1348707622778675203</td>\n      <td>Interested in learning more about our #K12Onli...</td>\n      <td>False</td>\n      <td>[0, 190]</td>\n      <td>{'iso_language_code': 'en', 'result_type': 're...</td>\n      <td>&lt;a href=\"https://mobile.twitter.com\" rel=\"nofo...</td>\n      <td>...</td>\n      <td>False</td>\n      <td>0</td>\n      <td>0</td>\n      <td>False</td>\n      <td>False</td>\n      <td>en</td>\n      <td>False</td>\n      <td>NaN</td>\n      <td>NaN</td>\n      <td>NaN</td>\n    </tr>\n    <tr>\n      <th>2</th>\n      <td>2</td>\n      <td>5ffce1024f712e7d75bd4c35</td>\n      <td>Mon Jan 11 06:36:01 +0000 2021</td>\n      <td>1348519013186293761</td>\n      <td>1348519013186293761</td>\n      <td>#Russia #OnlineEducationMarket will be a $ 2.0...</td>\n      <td>False</td>\n      <td>[0, 279]</td>\n      <td>{'iso_language_code': 'en', 'result_type': 're...</td>\n      <td>&lt;a href=\"https://mobile.twitter.com\" rel=\"nofo...</td>\n      <td>...</td>\n      <td>False</td>\n      <td>2</td>\n      <td>0</td>\n      <td>False</td>\n      <td>False</td>\n      <td>en</td>\n      <td>False</td>\n      <td>NaN</td>\n      <td>NaN</td>\n      <td>NaN</td>\n    </tr>\n    <tr>\n      <th>3</th>\n      <td>3</td>\n      <td>5ffce1024f712e7d75bd4c36</td>\n      <td>Mon Jan 11 02:54:43 +0000 2021</td>\n      <td>1348463319045255170</td>\n      <td>1348463319045255170</td>\n      <td>Attendance is more difficult to track during t...</td>\n      <td>False</td>\n      <td>[0, 220]</td>\n      <td>{'iso_language_code': 'en', 'result_type': 're...</td>\n      <td>&lt;a href=\"https://mobile.twitter.com\" rel=\"nofo...</td>\n      <td>...</td>\n      <td>False</td>\n      <td>0</td>\n      <td>0</td>\n      <td>False</td>\n      <td>False</td>\n      <td>en</td>\n      <td>False</td>\n      <td>NaN</td>\n      <td>NaN</td>\n      <td>NaN</td>\n    </tr>\n    <tr>\n      <th>4</th>\n      <td>4</td>\n      <td>5ffce1024f712e7d75bd4c37</td>\n      <td>Mon Jan 11 01:52:22 +0000 2021</td>\n      <td>1348447629479473152</td>\n      <td>1348447629479473152</td>\n      <td>Over the weekend we have had 5 new cases of CO...</td>\n      <td>False</td>\n      <td>[0, 266]</td>\n      <td>{'iso_language_code': 'en', 'result_type': 're...</td>\n      <td>&lt;a href=\"http://twitter.com/download/iphone\" r...</td>\n      <td>...</td>\n      <td>False</td>\n      <td>2</td>\n      <td>2</td>\n      <td>False</td>\n      <td>False</td>\n      <td>en</td>\n      <td>False</td>\n      <td>NaN</td>\n      <td>NaN</td>\n      <td>NaN</td>\n    </tr>\n  </tbody>\n</table>\n<p>5 rows × 30 columns</p>\n</div>"
     },
     "metadata": {},
     "execution_count": 16
    }
   ],
   "source": [
    "raw_data = pd.read_csv('../data/collected_tweets.csv')\n",
    "print(raw_data.shape)\n",
    "print(raw_data.info())\n",
    "raw_data.head()"
   ]
  },
  {
   "cell_type": "code",
   "execution_count": 18,
   "metadata": {},
   "outputs": [
    {
     "output_type": "stream",
     "name": "stdout",
     "text": [
      "0\n"
     ]
    }
   ],
   "source": [
    "# Duplicate check and handling\n",
    "\n",
    "# We do have EXACT duplicates?\n",
    "exact_dups = get_exact_dups(raw_data)\n",
    "print(len(exact_dups))"
   ]
  },
  {
   "cell_type": "code",
   "execution_count": 19,
   "metadata": {
    "tags": []
   },
   "outputs": [
    {
     "output_type": "stream",
     "name": "stdout",
     "text": [
      "0\n[]\n0\n"
     ]
    }
   ],
   "source": [
    "# Do we have duplicated tweets by id?\n",
    "tweet_dups = get_tweet_dups(raw_data, ['id'])\n",
    "print(len(tweet_dups))\n",
    "\n",
    "\n",
    "print(tweet_dups['id'].unique())\n",
    "\n",
    "print(tweet_dups['id'].unique().size)"
   ]
  },
  {
   "cell_type": "code",
   "execution_count": 20,
   "metadata": {},
   "outputs": [
    {
     "output_type": "stream",
     "name": "stdout",
     "text": [
      "0\n[]\n0\n"
     ]
    }
   ],
   "source": [
    "tweet_dups = get_tweet_dups(raw_data, ['full_text'])\n",
    "print(len(tweet_dups))\n",
    "\n",
    "\n",
    "print(tweet_dups['full_text'].unique())\n",
    "\n",
    "print(tweet_dups['full_text'].unique().size)"
   ]
  },
  {
   "cell_type": "code",
   "execution_count": null,
   "metadata": {},
   "outputs": [],
   "source": []
  }
 ]
}