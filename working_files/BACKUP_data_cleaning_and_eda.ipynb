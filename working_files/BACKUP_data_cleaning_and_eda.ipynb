{
 "metadata": {
  "language_info": {
   "codemirror_mode": {
    "name": "ipython",
    "version": 3
   },
   "file_extension": ".py",
   "mimetype": "text/x-python",
   "name": "python",
   "nbconvert_exporter": "python",
   "pygments_lexer": "ipython3",
   "version": "3.6.9-final"
  },
  "orig_nbformat": 2,
  "kernelspec": {
   "name": "flatiron",
   "display_name": "flatiron"
  }
 },
 "nbformat": 4,
 "nbformat_minor": 2,
 "cells": [
  {
   "cell_type": "markdown",
   "metadata": {},
   "source": [
    "# Data Cleaning and EDA\n"
   ]
  },
  {
   "cell_type": "code",
   "execution_count": 32,
   "metadata": {},
   "outputs": [],
   "source": [
    "# Import the required libraries\n",
    "import pandas as pd\n",
    "import numpy as np\n",
    "import re\n",
    " "
   ]
  },
  {
   "cell_type": "code",
   "execution_count": 93,
   "metadata": {},
   "outputs": [],
   "source": [
    "# Functions for data cleaning\n",
    "usa_states_fullname_regex = '(ALABAMA|ALASKA|ARIZONA|ARKANSAS|CALIFORNIA|COLORADO|CONNECTICUT|DELAWARE|FLORIDA|GEORGIA|HAWAII|' \\\n",
    "                            'IDAHO|ILLINOIS|INDIANA|IOWA|KANSAS|KENTUCKY|LOUISIANA|MAINE|MARYLAND|MASSACHUSETTS|MICHIGAN|MINNESOTA|MISSISSIPPI|MISSOURI|MONTANA|'\\\n",
    "                            'NEBRASKA|NEVADA|NEW\\sHAMPSHIRE|NEWSJERSEY|NEW\\sMEXICO|NEW\\sYORK|NORTH\\sCAROLINA|NORTH\\sDAKOTA|OHIO|OKLAHOMA|OREGON|PENNSYLVANIA|RHODE\\sISLAND|'\\\n",
    "                            'SOUTH\\sCAROLINA|SOUTH\\sDAKOTA|TENNESSEE|TEXAS|UTAH|VERMONT|VIRGINIA|WASHINGTON|WEST\\sVIRGINIA|WISCONSIN|WYOMING|USA)'\n",
    "\n",
    "\n",
    "usa_states_regex = ',\\s{1}(A[KLRZ]|C[AOT]|D[CE]|FL|GA|HI|I[ADLN]|K[SY]|LA|M[ADEINOST]|N[CDEHJMVY]|O[HKR]|P[AR]|RI|S[CD]|T[NX]|UT|V[AIT]|W[AIVY])'\n",
    "\n",
    "#  Functions for Duplicate checks \n",
    "def get_exact_dups(df):\n",
    "    '''\n",
    "    Returns duplicates\n",
    "    '''\n",
    "    dups = df[df.duplicated()]\n",
    "    return dups\n",
    "\n",
    "def get_tweet_dups(df, col_names):\n",
    "    '''\n",
    "    Returns duplicates based on given column name\n",
    "    '''\n",
    "    dups = df[df.duplicated(subset=col_names)]\n",
    "    return dups\n",
    "\n",
    "def get_is_us_loc(loc_string):\n",
    "    matches_abbrev = bool(re.search(usa_states_regex, loc_string.upper()))\n",
    "    if not matches_abbrev:\n",
    "        matches_full_name = bool(re.search(usa_states_fullname_regex, loc_string.upper())) \n",
    "    return (matches_abbrev or matches_full_name)\n",
    "    "
   ]
  },
  {
   "cell_type": "code",
   "execution_count": 19,
   "metadata": {},
   "outputs": [
    {
     "output_type": "stream",
     "name": "stdout",
     "text": [
      "(202645, 8)\n<class 'pandas.core.frame.DataFrame'>\nRangeIndex: 202645 entries, 0 to 202644\nData columns (total 8 columns):\n #   Column         Non-Null Count   Dtype \n---  ------         --------------   ----- \n 0   Unnamed: 0     202645 non-null  int64 \n 1   Unnamed: 0.1   202645 non-null  int64 \n 2   Content        202645 non-null  object\n 3   Location       155123 non-null  object\n 4   Username       202645 non-null  object\n 5   Retweet-Count  202645 non-null  int64 \n 6   Favorites      202645 non-null  int64 \n 7   Created at     202645 non-null  object\ndtypes: int64(4), object(4)\nmemory usage: 12.4+ MB\nNone\n"
     ]
    }
   ],
   "source": [
    "external_data = pd.read_csv('../external_data/tweets_raw.csv')\n",
    "print(external_data.shape)\n",
    "print(external_data.info())"
   ]
  },
  {
   "cell_type": "code",
   "execution_count": 23,
   "metadata": {},
   "outputs": [
    {
     "output_type": "execute_result",
     "data": {
      "text/plain": [
       "   Unnamed: 0  Unnamed: 0.1  \\\n",
       "0           0             0   \n",
       "1           1             1   \n",
       "2           2             2   \n",
       "3           3             3   \n",
       "4           4             4   \n",
       "\n",
       "                                             Content   Location  \\\n",
       "0  innovate an innovative approach #quoteoftheday...        NaN   \n",
       "1  The pandemic is raising concerns about how tee...  Worldwide   \n",
       "2  STI: Staying Education-ready in the New Normal...  Worldwide   \n",
       "3  Digital Learning Through Digital RCRT\\n.\\n.\\nR...        NaN   \n",
       "4  Upswing Classroom: Out and Out Virtual School,...      India   \n",
       "\n",
       "          Username  Retweet-Count  Favorites           Created at  \n",
       "0  PaulBillygraha1              0          0  2020-08-02 04:56:27  \n",
       "1     IAM__Network              0          0  2020-08-02 04:49:43  \n",
       "2     IAM__Network              0          0  2020-08-02 04:32:36  \n",
       "3      digitalrcrt              0          0  2020-08-02 04:30:12  \n",
       "4           etr_in              1          0  2020-08-02 04:00:21  "
      ],
      "text/html": "<div>\n<style scoped>\n    .dataframe tbody tr th:only-of-type {\n        vertical-align: middle;\n    }\n\n    .dataframe tbody tr th {\n        vertical-align: top;\n    }\n\n    .dataframe thead th {\n        text-align: right;\n    }\n</style>\n<table border=\"1\" class=\"dataframe\">\n  <thead>\n    <tr style=\"text-align: right;\">\n      <th></th>\n      <th>Unnamed: 0</th>\n      <th>Unnamed: 0.1</th>\n      <th>Content</th>\n      <th>Location</th>\n      <th>Username</th>\n      <th>Retweet-Count</th>\n      <th>Favorites</th>\n      <th>Created at</th>\n    </tr>\n  </thead>\n  <tbody>\n    <tr>\n      <th>0</th>\n      <td>0</td>\n      <td>0</td>\n      <td>innovate an innovative approach #quoteoftheday...</td>\n      <td>NaN</td>\n      <td>PaulBillygraha1</td>\n      <td>0</td>\n      <td>0</td>\n      <td>2020-08-02 04:56:27</td>\n    </tr>\n    <tr>\n      <th>1</th>\n      <td>1</td>\n      <td>1</td>\n      <td>The pandemic is raising concerns about how tee...</td>\n      <td>Worldwide</td>\n      <td>IAM__Network</td>\n      <td>0</td>\n      <td>0</td>\n      <td>2020-08-02 04:49:43</td>\n    </tr>\n    <tr>\n      <th>2</th>\n      <td>2</td>\n      <td>2</td>\n      <td>STI: Staying Education-ready in the New Normal...</td>\n      <td>Worldwide</td>\n      <td>IAM__Network</td>\n      <td>0</td>\n      <td>0</td>\n      <td>2020-08-02 04:32:36</td>\n    </tr>\n    <tr>\n      <th>3</th>\n      <td>3</td>\n      <td>3</td>\n      <td>Digital Learning Through Digital RCRT\\n.\\n.\\nR...</td>\n      <td>NaN</td>\n      <td>digitalrcrt</td>\n      <td>0</td>\n      <td>0</td>\n      <td>2020-08-02 04:30:12</td>\n    </tr>\n    <tr>\n      <th>4</th>\n      <td>4</td>\n      <td>4</td>\n      <td>Upswing Classroom: Out and Out Virtual School,...</td>\n      <td>India</td>\n      <td>etr_in</td>\n      <td>1</td>\n      <td>0</td>\n      <td>2020-08-02 04:00:21</td>\n    </tr>\n  </tbody>\n</table>\n</div>"
     },
     "metadata": {},
     "execution_count": 23
    }
   ],
   "source": [
    "external_data.head(5)"
   ]
  },
  {
   "cell_type": "code",
   "execution_count": 25,
   "metadata": {
    "tags": []
   },
   "outputs": [
    {
     "output_type": "stream",
     "name": "stdout",
     "text": [
      "20660\n15967\n"
     ]
    }
   ],
   "source": [
    "\n",
    "# duplicate content?  Yes...drop it!\n",
    "tweet_dups = get_tweet_dups(external_data, ['Content'])\n",
    "print(len(tweet_dups))\n",
    "print(tweet_dups['Content'].unique().size)"
   ]
  },
  {
   "cell_type": "code",
   "execution_count": 46,
   "metadata": {},
   "outputs": [
    {
     "output_type": "stream",
     "name": "stdout",
     "text": [
      "(139294, 9)\n"
     ]
    }
   ],
   "source": [
    "# Drop the rows with Location NaN\n",
    "external_data.dropna(subset=['Location'], inplace=True)\n",
    "external_data.drop_duplicates(subset=['Content'], inplace=True)\n",
    "print(external_data.shape)\n"
   ]
  },
  {
   "cell_type": "code",
   "execution_count": 94,
   "metadata": {
    "tags": []
   },
   "outputs": [],
   "source": [
    "external_data['is_us_loc'] = external_data.apply(lambda row: get_is_us_loc(row['Location']), axis=1)"
   ]
  },
  {
   "cell_type": "code",
   "execution_count": 98,
   "metadata": {},
   "outputs": [
    {
     "output_type": "execute_result",
     "data": {
      "text/plain": [
       "(64454, 9)"
      ]
     },
     "metadata": {},
     "execution_count": 98
    }
   ],
   "source": [
    "us_only_data = external_data[external_data['is_us_loc'] == True]\n",
    "us_only_data.shape"
   ]
  },
  {
   "cell_type": "code",
   "execution_count": 101,
   "metadata": {},
   "outputs": [
    {
     "output_type": "execute_result",
     "data": {
      "text/plain": [
       "        Unnamed: 0  Unnamed: 0.1  \\\n",
       "202634      202634          2676   \n",
       "202635      202635          2677   \n",
       "202636      202636          2678   \n",
       "202637      202637          2679   \n",
       "202639      202639          2681   \n",
       "\n",
       "                                                  Content       Location  \\\n",
       "202634  Told my kids this was real #virtuallearning #s...  Knoxville, TN   \n",
       "202635  Attention ALL students transitioning to colleg...    Atlanta, GA   \n",
       "202636  Attention ALL students transitioning to colleg...    Chicago, IL   \n",
       "202637  I work with the best English 10 teacher in the...    Roanoke, VA   \n",
       "202639  Join us on August 21st at 12 pm CDT for Virtua...      Tulsa, OK   \n",
       "\n",
       "             Username  Retweet-Count  Favorites           Created at  \\\n",
       "202634       donnyr71              0          5  2020-08-06 00:47:55   \n",
       "202635  TeeTaylorMade              0          1  2020-08-06 00:47:24   \n",
       "202636    EZTAYLORFDN              0          1  2020-08-06 00:47:09   \n",
       "202637     abchitwood              0          2  2020-08-06 00:42:25   \n",
       "202639    LindaJatJCG              0          0  2020-08-06 00:30:58   \n",
       "\n",
       "        is_us_loc  \n",
       "202634       True  \n",
       "202635       True  \n",
       "202636       True  \n",
       "202637       True  \n",
       "202639       True  "
      ],
      "text/html": "<div>\n<style scoped>\n    .dataframe tbody tr th:only-of-type {\n        vertical-align: middle;\n    }\n\n    .dataframe tbody tr th {\n        vertical-align: top;\n    }\n\n    .dataframe thead th {\n        text-align: right;\n    }\n</style>\n<table border=\"1\" class=\"dataframe\">\n  <thead>\n    <tr style=\"text-align: right;\">\n      <th></th>\n      <th>Unnamed: 0</th>\n      <th>Unnamed: 0.1</th>\n      <th>Content</th>\n      <th>Location</th>\n      <th>Username</th>\n      <th>Retweet-Count</th>\n      <th>Favorites</th>\n      <th>Created at</th>\n      <th>is_us_loc</th>\n    </tr>\n  </thead>\n  <tbody>\n    <tr>\n      <th>202634</th>\n      <td>202634</td>\n      <td>2676</td>\n      <td>Told my kids this was real #virtuallearning #s...</td>\n      <td>Knoxville, TN</td>\n      <td>donnyr71</td>\n      <td>0</td>\n      <td>5</td>\n      <td>2020-08-06 00:47:55</td>\n      <td>True</td>\n    </tr>\n    <tr>\n      <th>202635</th>\n      <td>202635</td>\n      <td>2677</td>\n      <td>Attention ALL students transitioning to colleg...</td>\n      <td>Atlanta, GA</td>\n      <td>TeeTaylorMade</td>\n      <td>0</td>\n      <td>1</td>\n      <td>2020-08-06 00:47:24</td>\n      <td>True</td>\n    </tr>\n    <tr>\n      <th>202636</th>\n      <td>202636</td>\n      <td>2678</td>\n      <td>Attention ALL students transitioning to colleg...</td>\n      <td>Chicago, IL</td>\n      <td>EZTAYLORFDN</td>\n      <td>0</td>\n      <td>1</td>\n      <td>2020-08-06 00:47:09</td>\n      <td>True</td>\n    </tr>\n    <tr>\n      <th>202637</th>\n      <td>202637</td>\n      <td>2679</td>\n      <td>I work with the best English 10 teacher in the...</td>\n      <td>Roanoke, VA</td>\n      <td>abchitwood</td>\n      <td>0</td>\n      <td>2</td>\n      <td>2020-08-06 00:42:25</td>\n      <td>True</td>\n    </tr>\n    <tr>\n      <th>202639</th>\n      <td>202639</td>\n      <td>2681</td>\n      <td>Join us on August 21st at 12 pm CDT for Virtua...</td>\n      <td>Tulsa, OK</td>\n      <td>LindaJatJCG</td>\n      <td>0</td>\n      <td>0</td>\n      <td>2020-08-06 00:30:58</td>\n      <td>True</td>\n    </tr>\n  </tbody>\n</table>\n</div>"
     },
     "metadata": {},
     "execution_count": 101
    }
   ],
   "source": [
    "us_only_data.tail()"
   ]
  },
  {
   "cell_type": "code",
   "execution_count": 102,
   "metadata": {},
   "outputs": [
    {
     "output_type": "execute_result",
     "data": {
      "text/plain": [
       "        Unnamed: 0  Unnamed: 0.1  \\\n",
       "9                9             9   \n",
       "10              10            10   \n",
       "11              11            11   \n",
       "12              12            12   \n",
       "13              13            13   \n",
       "...            ...           ...   \n",
       "202634      202634          2676   \n",
       "202635      202635          2677   \n",
       "202636      202636          2678   \n",
       "202637      202637          2679   \n",
       "202639      202639          2681   \n",
       "\n",
       "                                                  Content        Location  \\\n",
       "9       “Instructional Considerations for the 2020-21 ...   Illinois, USA   \n",
       "10      With all the uncertainty of what September wil...   Lyndhurst, NJ   \n",
       "11      Check this out on Wakelet - Digital learning a...        Cary, NC   \n",
       "12      Happy Friendship Day!\\n#rdnums #nagaland #kohi...   Kohima, India   \n",
       "13      Beat the summer heat with over 400 cool games ...  Providence, RI   \n",
       "...                                                   ...             ...   \n",
       "202634  Told my kids this was real #virtuallearning #s...   Knoxville, TN   \n",
       "202635  Attention ALL students transitioning to colleg...     Atlanta, GA   \n",
       "202636  Attention ALL students transitioning to colleg...     Chicago, IL   \n",
       "202637  I work with the best English 10 teacher in the...     Roanoke, VA   \n",
       "202639  Join us on August 21st at 12 pm CDT for Virtua...       Tulsa, OK   \n",
       "\n",
       "             Username  Retweet-Count  Favorites           Created at  \n",
       "9       Erik_Youngman              0          2  2020-08-02 00:10:26  \n",
       "10        Renee_LoBue              0          0  2020-08-01 23:57:31  \n",
       "11        SupriyaVasu              0          0  2020-08-01 23:20:38  \n",
       "12             rdnums              2          1  2020-08-01 23:17:09  \n",
       "13         ABCyaGames              0          2  2020-08-01 23:00:00  \n",
       "...               ...            ...        ...                  ...  \n",
       "202634       donnyr71              0          5  2020-08-06 00:47:55  \n",
       "202635  TeeTaylorMade              0          1  2020-08-06 00:47:24  \n",
       "202636    EZTAYLORFDN              0          1  2020-08-06 00:47:09  \n",
       "202637     abchitwood              0          2  2020-08-06 00:42:25  \n",
       "202639    LindaJatJCG              0          0  2020-08-06 00:30:58  \n",
       "\n",
       "[64454 rows x 8 columns]"
      ],
      "text/html": "<div>\n<style scoped>\n    .dataframe tbody tr th:only-of-type {\n        vertical-align: middle;\n    }\n\n    .dataframe tbody tr th {\n        vertical-align: top;\n    }\n\n    .dataframe thead th {\n        text-align: right;\n    }\n</style>\n<table border=\"1\" class=\"dataframe\">\n  <thead>\n    <tr style=\"text-align: right;\">\n      <th></th>\n      <th>Unnamed: 0</th>\n      <th>Unnamed: 0.1</th>\n      <th>Content</th>\n      <th>Location</th>\n      <th>Username</th>\n      <th>Retweet-Count</th>\n      <th>Favorites</th>\n      <th>Created at</th>\n    </tr>\n  </thead>\n  <tbody>\n    <tr>\n      <th>9</th>\n      <td>9</td>\n      <td>9</td>\n      <td>“Instructional Considerations for the 2020-21 ...</td>\n      <td>Illinois, USA</td>\n      <td>Erik_Youngman</td>\n      <td>0</td>\n      <td>2</td>\n      <td>2020-08-02 00:10:26</td>\n    </tr>\n    <tr>\n      <th>10</th>\n      <td>10</td>\n      <td>10</td>\n      <td>With all the uncertainty of what September wil...</td>\n      <td>Lyndhurst, NJ</td>\n      <td>Renee_LoBue</td>\n      <td>0</td>\n      <td>0</td>\n      <td>2020-08-01 23:57:31</td>\n    </tr>\n    <tr>\n      <th>11</th>\n      <td>11</td>\n      <td>11</td>\n      <td>Check this out on Wakelet - Digital learning a...</td>\n      <td>Cary, NC</td>\n      <td>SupriyaVasu</td>\n      <td>0</td>\n      <td>0</td>\n      <td>2020-08-01 23:20:38</td>\n    </tr>\n    <tr>\n      <th>12</th>\n      <td>12</td>\n      <td>12</td>\n      <td>Happy Friendship Day!\\n#rdnums #nagaland #kohi...</td>\n      <td>Kohima, India</td>\n      <td>rdnums</td>\n      <td>2</td>\n      <td>1</td>\n      <td>2020-08-01 23:17:09</td>\n    </tr>\n    <tr>\n      <th>13</th>\n      <td>13</td>\n      <td>13</td>\n      <td>Beat the summer heat with over 400 cool games ...</td>\n      <td>Providence, RI</td>\n      <td>ABCyaGames</td>\n      <td>0</td>\n      <td>2</td>\n      <td>2020-08-01 23:00:00</td>\n    </tr>\n    <tr>\n      <th>...</th>\n      <td>...</td>\n      <td>...</td>\n      <td>...</td>\n      <td>...</td>\n      <td>...</td>\n      <td>...</td>\n      <td>...</td>\n      <td>...</td>\n    </tr>\n    <tr>\n      <th>202634</th>\n      <td>202634</td>\n      <td>2676</td>\n      <td>Told my kids this was real #virtuallearning #s...</td>\n      <td>Knoxville, TN</td>\n      <td>donnyr71</td>\n      <td>0</td>\n      <td>5</td>\n      <td>2020-08-06 00:47:55</td>\n    </tr>\n    <tr>\n      <th>202635</th>\n      <td>202635</td>\n      <td>2677</td>\n      <td>Attention ALL students transitioning to colleg...</td>\n      <td>Atlanta, GA</td>\n      <td>TeeTaylorMade</td>\n      <td>0</td>\n      <td>1</td>\n      <td>2020-08-06 00:47:24</td>\n    </tr>\n    <tr>\n      <th>202636</th>\n      <td>202636</td>\n      <td>2678</td>\n      <td>Attention ALL students transitioning to colleg...</td>\n      <td>Chicago, IL</td>\n      <td>EZTAYLORFDN</td>\n      <td>0</td>\n      <td>1</td>\n      <td>2020-08-06 00:47:09</td>\n    </tr>\n    <tr>\n      <th>202637</th>\n      <td>202637</td>\n      <td>2679</td>\n      <td>I work with the best English 10 teacher in the...</td>\n      <td>Roanoke, VA</td>\n      <td>abchitwood</td>\n      <td>0</td>\n      <td>2</td>\n      <td>2020-08-06 00:42:25</td>\n    </tr>\n    <tr>\n      <th>202639</th>\n      <td>202639</td>\n      <td>2681</td>\n      <td>Join us on August 21st at 12 pm CDT for Virtua...</td>\n      <td>Tulsa, OK</td>\n      <td>LindaJatJCG</td>\n      <td>0</td>\n      <td>0</td>\n      <td>2020-08-06 00:30:58</td>\n    </tr>\n  </tbody>\n</table>\n<p>64454 rows × 8 columns</p>\n</div>"
     },
     "metadata": {},
     "execution_count": 102
    }
   ],
   "source": [
    "us_only_data.drop(['is_us_loc'], axis=1)"
   ]
  },
  {
   "cell_type": "code",
   "execution_count": 103,
   "metadata": {},
   "outputs": [],
   "source": [
    "us_only_data.to_csv('../data/us_only_external_data_tweets.csv')"
   ]
  },
  {
   "cell_type": "code",
   "execution_count": null,
   "metadata": {},
   "outputs": [],
   "source": []
  }
 ]
}